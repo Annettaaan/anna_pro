{
 "cells": [
  {
   "cell_type": "code",
   "execution_count": null,
   "metadata": {},
   "outputs": [],
   "source": [
    "#Развитие хип-хоп индустрии в Республике Татарстан и Нижегородской области "
   ]
  },
  {
   "cell_type": "code",
   "execution_count": 1,
   "metadata": {},
   "outputs": [],
   "source": [
    "import vk "
   ]
  },
  {
   "cell_type": "code",
   "execution_count": 2,
   "metadata": {},
   "outputs": [],
   "source": [
    "import re"
   ]
  },
  {
   "cell_type": "code",
   "execution_count": 3,
   "metadata": {},
   "outputs": [],
   "source": [
    "token = \"\"  \n",
    "session = vk.Session(access_token=token)  \n",
    "vk_api = vk.API(session)  "
   ]
  },
  {
   "cell_type": "code",
   "execution_count": 4,
   "metadata": {},
   "outputs": [],
   "source": [
    "personal_token = \"\"   \n",
    "session = vk.Session(access_token=personal_token)  \n",
    "vk_personal_api = vk.API(session)  "
   ]
  },
  {
   "cell_type": "code",
   "execution_count": 5,
   "metadata": {},
   "outputs": [],
   "source": [
    "def get_members(groupid, fields=('sex', 'bdate', 'city', 'country', 'domain')):\n",
    "    first = vk_api.groups.getMembers(group_id=groupid, fields=fields, v=5.92)  \n",
    "    data = first[\"items\"]  \n",
    "    count = first[\"count\"] // 1000  \n",
    "    \n",
    "    for i in range(1, count+1):  \n",
    "        data = data + vk_api.groups.getMembers(group_id=groupid, fields=fields, v=5.92, offset=i*1000)[\"items\"]\n",
    "    return data"
   ]
  },
  {
   "cell_type": "code",
   "execution_count": 6,
   "metadata": {},
   "outputs": [],
   "source": [
    "members = get_members ('zatmenie_official')"
   ]
  },
  {
   "cell_type": "code",
   "execution_count": 7,
   "metadata": {},
   "outputs": [
    {
     "data": {
      "text/plain": [
       "1797"
      ]
     },
     "execution_count": 7,
     "metadata": {},
     "output_type": "execute_result"
    }
   ],
   "source": [
    "zatmenie_official_members = get_members('zatmenie_official')\n",
    "len(zatmenie_official_members)\n"
   ]
  },
  {
   "cell_type": "code",
   "execution_count": 8,
   "metadata": {},
   "outputs": [],
   "source": [
    "def save_members_to_file(filename, members):\n",
    "    with open(filename, 'w', encoding='utf-8') as f:\n",
    "        for member in members:\n",
    "            _id = member[\"id\"] \n",
    "            first_name = member[\"first_name\"] \n",
    "            last_name = member[\"last_name\"] \n",
    "            \n",
    "            sex = member[\"sex\"] \n",
    "            if int(sex) == 1:   \n",
    "                sex = \"F\"  \n",
    "            elif int(sex) == 2:   \n",
    "                sex = \"M\" \n",
    "            else:  \n",
    "                sex = \"-\"  \n",
    "                \n",
    "            bdate = member.get('bdate', \"-\")   \n",
    "            if len(bdate.split(\".\")) == 3:  \n",
    "                bdate = bdate.split(\".\")[-1]  \n",
    "            else:  \n",
    "                bdate = \"-\"  \n",
    "                \n",
    "            city = member.get('city', {}).get(\"title\", \"-\")  \n",
    "            country = member.get('country', {}).get(\"title\", \"-\")  \n",
    "            f.write(f\"{_id},\\t{first_name}\\t{last_name}\\t{sex}\\t{bdate}\\t{city}\\t{country}\\n\")  "
   ]
  },
  {
   "cell_type": "code",
   "execution_count": 9,
   "metadata": {},
   "outputs": [],
   "source": [
    "save_members_to_file ('zatmenie_official_members.tsv', members)"
   ]
  },
  {
   "cell_type": "code",
   "execution_count": 10,
   "metadata": {},
   "outputs": [],
   "source": [
    "import matplotlib.pyplot as plt\n",
    "import seaborn as sns"
   ]
  },
  {
   "cell_type": "code",
   "execution_count": 11,
   "metadata": {},
   "outputs": [],
   "source": [
    "import pandas as pd\n",
    "\n",
    "df = pd.read_csv('zatmenie_official.tsv', sep=\"\\t\", names=[\"id\", \"name\", \"surname\", \"sex\", \"birth\", \"city\", \"country\"])"
   ]
  },
  {
   "cell_type": "code",
   "execution_count": 12,
   "metadata": {
    "scrolled": true
   },
   "outputs": [
    {
     "data": {
      "text/html": [
       "<div>\n",
       "<style scoped>\n",
       "    .dataframe tbody tr th:only-of-type {\n",
       "        vertical-align: middle;\n",
       "    }\n",
       "\n",
       "    .dataframe tbody tr th {\n",
       "        vertical-align: top;\n",
       "    }\n",
       "\n",
       "    .dataframe thead th {\n",
       "        text-align: right;\n",
       "    }\n",
       "</style>\n",
       "<table border=\"1\" class=\"dataframe\">\n",
       "  <thead>\n",
       "    <tr style=\"text-align: right;\">\n",
       "      <th></th>\n",
       "      <th>id</th>\n",
       "      <th>name</th>\n",
       "      <th>surname</th>\n",
       "      <th>sex</th>\n",
       "      <th>birth</th>\n",
       "      <th>city</th>\n",
       "      <th>country</th>\n",
       "    </tr>\n",
       "  </thead>\n",
       "  <tbody>\n",
       "    <tr>\n",
       "      <th>0</th>\n",
       "      <td>32369,</td>\n",
       "      <td>Vladislav</td>\n",
       "      <td>Denchik</td>\n",
       "      <td>M</td>\n",
       "      <td>1990</td>\n",
       "      <td>-</td>\n",
       "      <td>-</td>\n",
       "    </tr>\n",
       "    <tr>\n",
       "      <th>1</th>\n",
       "      <td>921196,</td>\n",
       "      <td>Kurilschik</td>\n",
       "      <td>Olimpiysky</td>\n",
       "      <td>M</td>\n",
       "      <td>-</td>\n",
       "      <td>Kazan</td>\n",
       "      <td>Russia</td>\n",
       "    </tr>\n",
       "    <tr>\n",
       "      <th>2</th>\n",
       "      <td>1018157,</td>\n",
       "      <td>Gio</td>\n",
       "      <td>Dzhioev</td>\n",
       "      <td>M</td>\n",
       "      <td>-</td>\n",
       "      <td>Syktyvkar</td>\n",
       "      <td>Russia</td>\n",
       "    </tr>\n",
       "    <tr>\n",
       "      <th>3</th>\n",
       "      <td>1307644,</td>\n",
       "      <td>Nikolay</td>\n",
       "      <td>Osipov</td>\n",
       "      <td>M</td>\n",
       "      <td>-</td>\n",
       "      <td>Kazan</td>\n",
       "      <td>Russia</td>\n",
       "    </tr>\n",
       "    <tr>\n",
       "      <th>4</th>\n",
       "      <td>1603716,</td>\n",
       "      <td>Artem</td>\n",
       "      <td>Artemov</td>\n",
       "      <td>M</td>\n",
       "      <td>-</td>\n",
       "      <td>Kazan</td>\n",
       "      <td>Russia</td>\n",
       "    </tr>\n",
       "    <tr>\n",
       "      <th>5</th>\n",
       "      <td>1698775,</td>\n",
       "      <td>DELETED</td>\n",
       "      <td>NaN</td>\n",
       "      <td>M</td>\n",
       "      <td>-</td>\n",
       "      <td>-</td>\n",
       "      <td>-</td>\n",
       "    </tr>\n",
       "    <tr>\n",
       "      <th>6</th>\n",
       "      <td>1765475,</td>\n",
       "      <td>Eduard</td>\n",
       "      <td>Sirazeev</td>\n",
       "      <td>M</td>\n",
       "      <td>-</td>\n",
       "      <td>Kazan</td>\n",
       "      <td>Russia</td>\n",
       "    </tr>\n",
       "    <tr>\n",
       "      <th>7</th>\n",
       "      <td>2076618,</td>\n",
       "      <td>Adel</td>\n",
       "      <td>Enikeev</td>\n",
       "      <td>M</td>\n",
       "      <td>-</td>\n",
       "      <td>Kazan</td>\n",
       "      <td>Russia</td>\n",
       "    </tr>\n",
       "    <tr>\n",
       "      <th>8</th>\n",
       "      <td>2184371,</td>\n",
       "      <td>Anzhelika</td>\n",
       "      <td>Kalinina</td>\n",
       "      <td>F</td>\n",
       "      <td>-</td>\n",
       "      <td>Kazan</td>\n",
       "      <td>Russia</td>\n",
       "    </tr>\n",
       "    <tr>\n",
       "      <th>9</th>\n",
       "      <td>2295372,</td>\n",
       "      <td>DELETED</td>\n",
       "      <td>NaN</td>\n",
       "      <td>F</td>\n",
       "      <td>-</td>\n",
       "      <td>-</td>\n",
       "      <td>-</td>\n",
       "    </tr>\n",
       "  </tbody>\n",
       "</table>\n",
       "</div>"
      ],
      "text/plain": [
       "         id        name     surname sex birth       city country\n",
       "0    32369,   Vladislav     Denchik   M  1990          -       -\n",
       "1   921196,  Kurilschik  Olimpiysky   M     -      Kazan  Russia\n",
       "2  1018157,         Gio     Dzhioev   M     -  Syktyvkar  Russia\n",
       "3  1307644,     Nikolay      Osipov   M     -      Kazan  Russia\n",
       "4  1603716,       Artem     Artemov   M     -      Kazan  Russia\n",
       "5  1698775,     DELETED         NaN   M     -          -       -\n",
       "6  1765475,      Eduard    Sirazeev   M     -      Kazan  Russia\n",
       "7  2076618,        Adel     Enikeev   M     -      Kazan  Russia\n",
       "8  2184371,   Anzhelika    Kalinina   F     -      Kazan  Russia\n",
       "9  2295372,     DELETED         NaN   F     -          -       -"
      ]
     },
     "execution_count": 12,
     "metadata": {},
     "output_type": "execute_result"
    }
   ],
   "source": [
    "df.head(10)"
   ]
  },
  {
   "cell_type": "code",
   "execution_count": 13,
   "metadata": {},
   "outputs": [
    {
     "name": "stdout",
     "output_type": "stream",
     "text": [
      "Kazan                      757\n",
      "Moscow                      59\n",
      "Saint Petersburg            13\n",
      "Kyiv                         9\n",
      "Naberezhnye Chelny           7\n",
      "Samara                       6\n",
      "Yekaterinburg                4\n",
      "Zelenodolsk                  4\n",
      "Perm                         4\n",
      "Los Angeles                  4\n",
      "Ulyanovsk                    4\n",
      "Rostov-on-Don                4\n",
      "Mykolaiv                     4\n",
      "Almetyevsk                   3\n",
      "Ufa                          3\n",
      "Odessa                       3\n",
      "Krasnodar                    3\n",
      "Nizhnekamsk                  3\n",
      "Dnipropetrovsk (Dnipro)      3\n",
      "Amsterdam                    2\n",
      "Name: city, dtype: int64\n"
     ]
    }
   ],
   "source": [
    "city_count  = df['city'].value_counts().drop('-') # считаем города и удаляем отсутствие города в табличке: \"-\"\n",
    "city_count = city_count[:20] # первые 20 городов\n",
    "print(city_count)"
   ]
  },
  {
   "cell_type": "code",
   "execution_count": 16,
   "metadata": {},
   "outputs": [
    {
     "data": {
      "image/png": "[encoded data removed]",
      "text/plain": [
       "<Figure size 432x288 with 1 Axes>"
      ]
     },
     "metadata": {
      "needs_background": "light"
     },
     "output_type": "display_data"
    }
   ],
   "source": [
    "sns.barplot(city_count.index, city_count.values, palette='copper') \n",
    "plt.title('Cities of Zatmenie_official band fans')\n",
    "plt.ylabel('Number of group members', fontsize=12)\n",
    "plt.xlabel('city', fontsize=12)\n",
    "plt.xticks(rotation=90) \n",
    "plt.show()"
   ]
  },
  {
   "cell_type": "code",
   "execution_count": 61,
   "metadata": {},
   "outputs": [
    {
     "data": {
      "image/png": "[encoded data removed]",
      "text/plain": [
       "<Figure size 1440x720 with 1 Axes>"
      ]
     },
     "metadata": {
      "needs_background": "light"
     },
     "output_type": "display_data"
    }
   ],
   "source": [
    "birth_count  = df['birth'].value_counts().drop('-')\n",
    "plt.figure(figsize=(20,10))\n",
    "ax = sns.barplot(birth_count.index, birth_count.values, palette='pink') \n",
    "plt.title('Birth year of Zatmenie_official band fans')\n",
    "plt.ylabel('Nb of fans', fontsize=12)\n",
    "plt.xlabel('Birth year', fontsize=12)\n",
    "plt.xticks(rotation=90) \n",
    "plt.show() "
   ]
  },
  {
   "cell_type": "code",
   "execution_count": 29,
   "metadata": {},
   "outputs": [
    {
     "data": {
      "image/png": "[encoded data removed]",
      "text/plain": [
       "<Figure size 1440x720 with 1 Axes>"
      ]
     },
     "metadata": {
      "needs_background": "light"
     },
     "output_type": "display_data"
    }
   ],
   "source": [
    "country_count = df[\"country\"].value_counts().drop(\"-\")\n",
    "country_count = country_count [0:20]\n",
    "plt.figure(figsize=(20,10))\n",
    "ax = sns.barplot(country_count.index,country_count.values, palette=\"pink\")\n",
    "plt.title(\"Countries of Zatmenie_official fans\")\n",
    "plt.ylabel(\"Nb of fans\", fontsize=12)\n",
    "plt.xlabel(\"Country\", fontsize=12)\n",
    "plt.xticks(rotation=90)\n",
    "plt.show()"
   ]
  },
  {
   "cell_type": "code",
   "execution_count": 18,
   "metadata": {},
   "outputs": [],
   "source": [
    "df.loc[(df['city'] == 'Moscow')] = \"msk + kzn\"\n",
    "df.loc[(df['city'] == 'Kazan')] = \"msk + kzn\"\n",
    "df.loc[(df['city'] != \"msk + kzn\") & (df['city'] != \"-\")] = \"province\"\n",
    "\n",
    "\n",
    "city_count  = df['city'].value_counts().drop('-') \n",
    "city_count = city_count[:20] "
   ]
  },
  {
   "cell_type": "code",
   "execution_count": 19,
   "metadata": {},
   "outputs": [
    {
     "data": {
      "image/png": "[encoded data removed]",
      "text/plain": [
       "<Figure size 432x288 with 1 Axes>"
      ]
     },
     "metadata": {
      "needs_background": "light"
     },
     "output_type": "display_data"
    }
   ],
   "source": [
    "axes = city_count.plot.bar() "
   ]
  },
  {
   "cell_type": "code",
   "execution_count": 20,
   "metadata": {},
   "outputs": [],
   "source": [
    "new_df = df[df['sex'].ne('-')] \n",
    "new_df['birth'] = pd.to_numeric(new_df['birth'], errors='coerce') "
   ]
  },
  {
   "cell_type": "code",
   "execution_count": 21,
   "metadata": {},
   "outputs": [
    {
     "data": {
      "image/png": "[encoded data removed]",
      "text/plain": [
       "<Figure size 720x360 with 1 Axes>"
      ]
     },
     "metadata": {
      "needs_background": "light"
     },
     "output_type": "display_data"
    }
   ],
   "source": [
    "plt.figure(figsize=(10,5)) \n",
    "sns.boxplot(x=\"birth\", y=\"sex\", data=new_df) \n",
    "plt.show()"
   ]
  },
  {
   "cell_type": "code",
   "execution_count": 22,
   "metadata": {},
   "outputs": [],
   "source": [
    "def get_posts(owner_id):\n",
    "    first = vk_api.wall.get(domain=owner_id, count=100, filter=\"owner\", v=5.124)\n",
    "    data = first[\"items\"]  \n",
    "    count = first[\"count\"] // 100  \n",
    "    \n",
    "    \n",
    "    for i in range(1, count+1):  \n",
    "        data += vk_api.wall.get(domain=owner_id, v=5.124, filter=\"owner\", count=100, offset=i*100)[\"items\"]\n",
    "    return [i['text'] for i in data]"
   ]
  },
  {
   "cell_type": "code",
   "execution_count": 23,
   "metadata": {},
   "outputs": [],
   "source": [
    "zatmenie_official_posts = get_posts(\"zatmenie_official\")"
   ]
  },
  {
   "cell_type": "code",
   "execution_count": 24,
   "metadata": {},
   "outputs": [
    {
     "name": "stdout",
     "output_type": "stream",
     "text": [
      "Предлагаю вашему вниманию мой сольный лирический трек, собранный на протяжении 3-х лет, в который вложена частичка души и годы отсутствия. Посвящается всем нашенским, всем близким и родным мне людям. \"Это душевная сага, таким же во благо...\" \n",
      "Салам Всем Достойным\n",
      "Стихотворение. 2020г. Автор: Феникс\n",
      "Пока в разработке новые треки, понастальгируем стареньким андером былой юности. Доброго👐\n",
      "\n",
      "(2015 год, альбом \"Держи марку\")\n",
      "Зимняя совместка с Булатом из ТАСМА 87. Принять участия в сведении не удалось в силу моего отсутствия, но вроде не плохо 😉\n",
      "😊\n",
      "По просьбе людей зачел на камеру куплет. трек новый, сырой, настроение праздное, так что строго не судите. Всем НАШЕНСКИМ посвящается😉👋\n",
      "\n",
      "\n",
      "\n",
      "\n"
     ]
    }
   ],
   "source": [
    "for post in zatmenie_official_posts[:10]:\n",
    "    print(post)"
   ]
  },
  {
   "cell_type": "code",
   "execution_count": 21,
   "metadata": {},
   "outputs": [
    {
     "name": "stdout",
     "output_type": "stream",
     "text": [
      "['Предлагаю вашему вниманию мой сольный лирический трек, собранный на протяжении 3-х лет, в который вложена частичка души и годы отсутствия. Посвящается всем нашенским, всем близким и родным мне людям. \"Это душевная сага, таким же во благо...\" \\nСалам Всем Достойным', 'Стихотворение. 2020г. Автор: Феникс', 'Пока в разработке новые треки, понастальгируем стареньким андером былой юности. Доброго👐\\n\\n(2015 год, альбом \"Держи марку\")', 'Зимняя совместка с Булатом из ТАСМА 87. Принять участия в сведении не удалось в силу моего отсутствия, но вроде не плохо 😉', '😊', 'По просьбе людей зачел на камеру куплет. трек новый, сырой, настроение праздное, так что строго не судите. Всем НАШЕНСКИМ посвящается😉👋', '', '', '', '', '', '', '', '', 'Zatmenie [Fenix] - Невидимые цепи (демо)', 'Стихи', 'Новый трек. В процессе сведения', '', '', '\"Первые впечатления\" (18+)\\n\\nлуч света в хату промелькнул, \\nно не сказать что солнцу рады\\nсквозь стены слышен караул \\nи вновь ебучая баланда\\nусловья тьма, суровый быт\\nу мусаров всегда на мушке\\nв хатах у нас перелимит\\nхолодная тюрьма-старушка\\nшконарь, ущербнейший матрас\\nосанка мне тут в хуй не впёрлась\\nнормальный сон тут раз на раз\\nи сквозь него всё тот же голос\\nтёрки из-за воды\\nкто-то чего забыл случайно\\nрамс изо всякой хуеты\\nа чё творить, шпана скучает\\nвроде лафа - лежи, балдей\\nбыстрее дни не скоротаешь \\nи тот ебаный банный день\\nкогда ты его пропускаешь\\nв новинку мне такой режим\\nхуйня делов - привыкнешь брат\\nно, чёрт возьми, как не жужжи \\nвсё время что-то блять не так\\nгде же сплоченность та людская?\\nгде же то братское тепло?\\nлишь возмущенно зубы скалят\\nи недовольное ебло\\nсейчас бы планчика вдохнуть\\nи телочку хоть на часок\\nтак ждал, братан, не обессудь\\nсвободы золотой глоток\\nпо хатам понеслась молва - \\nпоставьте в курс, авось нагонят\\nподпись в конце - \"С УВ Братва,\\nпо ВЗМ мне тусаните воли...\"\\n\\nосень 2015г., КЦ-2, х50. (с) Феникс', '', 'Концерт 2014', 'Популярный трек 2013 года. Люди до сих пор помнят)', '', 'Совместная работа 2019 с группой 87 Тасма. В старом добром стиле. Ценим', 'Эх, было время...\\n2011г. Трое с Авиастроя', '', '', '', 'Культовая темка 2014 года. По притче старого мудреца. Более форматно и интеллектуально. Настольгируем. 😉', 'Новый трек и клип от Fenixa из Zatmeniя. Впервые за три года выложенный в сеть свежий материал и в дальнейшем будет ещё. Размораживаем прежний андер ) Всем своим и достойным. Рэпчик из авиастроя. С УВ ZATMENIE [Fenix] \\n\\nТекст: Fenix\\nМузыка: Ybeat product\\nСведение, мастеринг: Fenix\\nСъёмка, монтаж: iL Pro\\n\\nСсылка на группу: https://vk.com/zatmenie_official\\nFenix: https://vk.com/fenisio', '', 'АУЕ 2013 \\nВсему добропорядочному люду от всей души, старый совмес кто помнит и кому в новинку, пожелав всех благ, с искренним уважением и братским теплом, Женёк Крест и Артём Феникс 😁😎😉', '', 'НОВЫЙ АЛЬБОМ В СЕТИ !!! Zatmenie - Держим Марку! Всем спасибо кто ждал!Всем спасибо за репосты!!!', 'Zatmenie - Держим Марку!!! Альбом в сети !!!!!!!!!!Дададаааадаа Он слишком долго лежал!Кто то скажет что слегка не то. Но Zatmenie Всегда было не то что любят все =/ Сегодня день рождения Феникса. И В честь его стараний Альбом в сети. Вообщем Держим Марку =// Альбом задержался с выходом на 2 года. https://yadi.sk/d/wkfx7P5_3K63nd', 'НОВЫЙ АЛЬБОМ 2017', '', 'Рано или поздно альбом я выложу.А сейчас для тех кто ждёт или ждал.Совместный трек с Эдгаром Гроссом ... СЛУХИ. \\nНа мой взгляд тема более чем актуальна))Зацени)) ЗА репост так же жмём 5. От Феникса всем привет!!!', '', 'Сегодня Вечеринка !!!)Своим вход свободный', 'Не смотря на обстоятельства. Альбом ZATMENIE-Держим марку выйдет в скором времени.Треки Отдал на сведение.Обложка В процессе!.Всем спасибо!', '', 'Представляем вам Команду ТАСМА 87. Лютые парни с которыми мы всегда на связи и на общении. ZATMENIE  так же приняли участи на их крутом альбоме. Предлагаю заценить трЭкан )\\nP.s .Так получилось что мы уехали отдыхать кто куда=/ \\nАльбом готов но требует мастеринга.Думаю в ближайшее время по прибытию обязательно выложим!Всем спасибо за внимание!!!', 'Отрывки из нового альбома ZATMENIE - Держим марку 2015. До выхода осталось около месяца. Ценим, лайкаем, репост)', 'Всем ценителям андеграунд рэпа, в предверии нового альбома записали тизер, броско но с чувством, скромно но со вкусом) Всем тем кто нас помнит, ZATMENIE, Fenix & Ecstaz, Авиастрой) Уже 2-ой альбом, новый уровень, осталось влёгкую) ценим.', 'Мой сольный трек под название \"КОЧЕВНИК\", текст песни написан в 2013г., записан в 2014г., и доработан в этом году, так что уже залежался. Под легкое настроение. Та часть моего иноземного рэпа)\\n\\nтекст, музыка, сведение: Fenix\\nдизайн обложки: Сергей Грешный\\n\\nОтдельная благодарность Драгниру за содействие!', 'Лютый совмес 2013 года. Феникс, Крюк, Социум щит. Понастальгируем пока сводится новый трекан)', '', 'HIP-HOP All starS KZN 15 (27.02.2015)', '', '', 'Литл бар 24.01.15', '', 'Ценим новый трекан. Кто знает тот поймет. Приятного прослушивания. Zatmenie [Fenix] ft. Stereo Tip – Кристина', 'Ценим новый трекан. Кто знает тот поймет. Приятного прослушивания.', 'Когда-то давно старик открыл своему внуку одну жизненную истину.\\nВ каждом человеке идёт борьба, очень похожая на борьбу двух волков. Один волк представляет зло – зависть, ревность, эгоизм, амбиции, ложь… Другой волк представляет добро – мир, любовь, надежду, доброту, верность… \\nМалыш, тронутый до глубины души словами деда, на несколько мгновений задумался, а потом спросил: \\n– А какой волк в конце побеждает? \\nСтарик едва заметно улыбнулся и ответил: \\n– Всегда побеждает тот волк, которого ты кормишь.', '★ КАСПИЙСКИЙ ГРУЗ|6.12.14|КАЗАНЬ|T.E.A.T.R.O. ★', '', 'Видеосъемка с разогрева Каспийского', '', '', '', '', '2013', '', 'Такая вот зарисовочка, в однеху пока, погрустим малость=)', '', 'Цени новый клип - Zatmenie [Fenix], Stereo Tip, PlastTblPb - Дно. Всем большое спасибо и приятного просмотра!', 'Zatmenie [Fenix], Stereo Tip, PlastTblPb - Дно', '', 'Понастальгируем с корешом)', 'На каждый новый год!) Всех с наступающим НГ ! НГАА ! ))))', '', '', '', '', '', '', 'Скоро клип', 'Нужны две девушки для участия в клипе на трек \"Любовь и наркотики\"  \\nКритерии: высокая, стройная, от 20 до 30 лет, актерские способности не важны, желающим писать в личку )', '', '', 'Всем любителям растафарии. Новый экспериментик. Летний релакс такой, легкий как пыль, но жгучий как трава) продлим лето немного) расслабимся и помедитируем) всем веселого настроения!', '', 'Совместно с земляками...', 'Из нового альбома \"Последствия М\", многих улыбнуло, очень романтично=)', 'Ценим новый альбом от Zatmenie [Fenix] - \"Последствия М\", при участии: Ecstaz, Stereo Tip, Социум щит, Крюк, Dragnir, Mirage, Крест, Taras\\nМузыка: Fenix (Skolopendra beats), KIX (Domestic sound), Темный (Salvia divinorum)\\nСведение: Fenix\\nМастеринг: Dragnir\\nВсем огромное спасибо и приятного прослушивания! Ссылка на скачивание альбома под видеоклипом', 'треки с 1 по 9', 'треки с 10 по 18', 'Цени новый альбом Zatmenie [Fenix] - \"Последствия М\". Всем большое спасибо и приятного прослушивания!', '', '', '', '', 'Нас почти косарь)', 'Ценим отрывки из нового альбома, дата выхода - июль 2013.', '', 'Учавствуем на андерграунд вечеринке 20 апреля в \"Желтой кофте\" http://vk.com/k_memories', '', 'Два трека, как два симптома одной аллергии. поэтому объединил. Всем любителям искаженной реальности. Возможны побочные эффекты. Рекомендую в наушниках. Приятного выноса мозга)', 'Прошлогодний видос, его просто нет на стене почему то)', 'Слушаем новый трек: Zatmenie - Колотун', 'Повесть прошлых зим...', 'Предлагаем вашему вниманию ремикс на недавний трек \"Всем местным\". Ценим', '', '', '', '', '', '', '', 'Наши минусовки', '', '', '', '', '', '', '', '', '', 'Участвуем в Under battle - прошли во 2-ой тур', 'Новый трек с совместного альбома с группой Буриме, слушать на полную громкость!)', 'Объединение \"Пападос.com\" представляет трек \"Парни с окраин\" с совместного альбома Буриме и Zatmenie. Приятного прослушивания. \\n ', 'ЗАлили Новый Трэк!!! \\nZatmenie feat Аминадо - Посыл \\n\\nЖдём Коментариев!!!', 'СЛушаем Новый Трэк НА БАТЛ!!!', 'Zatmenie feat Аминадо - ЖДИТЕ ...', '', 'Zatmenie - Приглашение. 23 апреля. Кафе \"Винил\". 2 новых трека', 'Zatmenie - Happy new year!']\n"
     ]
    }
   ],
   "source": [
    "print (zatmenie_official_posts)"
   ]
  },
  {
   "cell_type": "code",
   "execution_count": 25,
   "metadata": {},
   "outputs": [],
   "source": [
    "zatmenie_official = \" \"\n",
    "for i in zatmenie_official_posts:\n",
    "    zatmenie_official += str(i)\n",
    "zatmenie_official = re.sub('\\[(id|club)\\d*\\|[А-Яа-я A-Za-z0-9ёЁ\\-\\,\\@\\(\\)\\\"\\'\\:\\«\\»\\|\\$\\^\\&\\*\\’\\.\\`]*\\]', '', zatmenie_official)"
   ]
  },
  {
   "cell_type": "code",
   "execution_count": 23,
   "metadata": {},
   "outputs": [
    {
     "name": "stdout",
     "output_type": "stream",
     "text": [
      " Предлагаю вашему вниманию мой сольный лирический трек, собранный на протяжении 3-х лет, в который вложена частичка души и годы отсутствия. Посвящается всем нашенским, всем близким и родным мне людям. \"Это душевная сага, таким же во благо...\" \n",
      "Салам Всем ДостойнымСтихотворение. 2020г. Автор: ФениксПока в разработке новые треки, понастальгируем стареньким андером былой юности. Доброго👐\n",
      "\n",
      "(2015 год, альбом \"Держи марку\")Зимняя совместка с Булатом из ТАСМА 87. Принять участия в сведении не удалось в силу моего отсутствия, но вроде не плохо 😉😊По просьбе людей зачел на камеру куплет. трек новый, сырой, настроение праздное, так что строго не судите. Всем НАШЕНСКИМ посвящается😉👋Zatmenie [Fenix] - Невидимые цепи (демо)СтихиНовый трек. В процессе сведения\"Первые впечатления\" (18+)\n",
      "\n",
      "луч света в хату промелькнул, \n",
      "но не сказать что солнцу рады\n",
      "сквозь стены слышен караул \n",
      "и вновь ебучая баланда\n",
      "условья тьма, суровый быт\n",
      "у мусаров всегда на мушке\n",
      "в хатах у нас перелимит\n",
      "холодная тюрьма-старушка\n",
      "шконарь, ущербнейший матрас\n",
      "осанка мне тут в хуй не впёрлась\n",
      "нормальный сон тут раз на раз\n",
      "и сквозь него всё тот же голос\n",
      "тёрки из-за воды\n",
      "кто-то чего забыл случайно\n",
      "рамс изо всякой хуеты\n",
      "а чё творить, шпана скучает\n",
      "вроде лафа - лежи, балдей\n",
      "быстрее дни не скоротаешь \n",
      "и тот ебаный банный день\n",
      "когда ты его пропускаешь\n",
      "в новинку мне такой режим\n",
      "хуйня делов - привыкнешь брат\n",
      "но, чёрт возьми, как не жужжи \n",
      "всё время что-то блять не так\n",
      "где же сплоченность та людская?\n",
      "где же то братское тепло?\n",
      "лишь возмущенно зубы скалят\n",
      "и недовольное ебло\n",
      "сейчас бы планчика вдохнуть\n",
      "и телочку хоть на часок\n",
      "так ждал, братан, не обессудь\n",
      "свободы золотой глоток\n",
      "по хатам понеслась молва - \n",
      "поставьте в курс, авось нагонят\n",
      "подпись в конце - \"С УВ Братва,\n",
      "по ВЗМ мне тусаните воли...\"\n",
      "\n",
      "осень 2015г., КЦ-2, х50. (с) ФениксКонцерт 2014Популярный трек 2013 года. Люди до сих пор помнят)Совместная работа 2019 с группой 87 Тасма. В старом добром стиле. ЦенимЭх, было время...\n",
      "2011г. Трое с АвиастрояКультовая темка 2014 года. По притче старого мудреца. Более форматно и интеллектуально. Настольгируем. 😉Новый трек и клип от Fenixa из Zatmeniя. Впервые за три года выложенный в сеть свежий материал и в дальнейшем будет ещё. Размораживаем прежний андер ) Всем своим и достойным. Рэпчик из авиастроя. С УВ ZATMENIE [Fenix] \n",
      "\n",
      "Текст: Fenix\n",
      "Музыка: Ybeat product\n",
      "Сведение, мастеринг: Fenix\n",
      "Съёмка, монтаж: iL Pro\n",
      "\n",
      "Ссылка на группу: https://vk.com/zatmenie_official\n",
      "Fenix: https://vk.com/fenisioАУЕ 2013 \n",
      "Всему добропорядочному люду от всей души, старый совмес кто помнит и кому в новинку, пожелав всех благ, с искренним уважением и братским теплом, Женёк Крест и Артём Феникс 😁😎😉НОВЫЙ АЛЬБОМ В СЕТИ !!! Zatmenie - Держим Марку! Всем спасибо кто ждал!Всем спасибо за репосты!!!Zatmenie - Держим Марку!!! Альбом в сети !!!!!!!!!!Дададаааадаа Он слишком долго лежал!Кто то скажет что слегка не то. Но Zatmenie Всегда было не то что любят все =/ Сегодня день рождения Феникса. И В честь его стараний Альбом в сети. Вообщем Держим Марку =// Альбом задержался с выходом на 2 года. https://yadi.sk/d/wkfx7P5_3K63ndНОВЫЙ АЛЬБОМ 2017Рано или поздно альбом я выложу.А сейчас для тех кто ждёт или ждал.Совместный трек с Эдгаром Гроссом ... СЛУХИ. \n",
      "На мой взгляд тема более чем актуальна))Зацени)) ЗА репост так же жмём 5. От Феникса всем привет!!!Сегодня Вечеринка !!!)Своим вход свободныйНе смотря на обстоятельства. Альбом ZATMENIE-Держим марку выйдет в скором времени.Треки Отдал на сведение.Обложка В процессе!.Всем спасибо!Представляем вам Команду ТАСМА 87. Лютые парни с которыми мы всегда на связи и на общении. ZATMENIE  так же приняли участи на их крутом альбоме. Предлагаю заценить трЭкан )\n",
      "P.s .Так получилось что мы уехали отдыхать кто куда=/ \n",
      "Альбом готов но требует мастеринга.Думаю в ближайшее время по прибытию обязательно выложим!Всем спасибо за внимание!!!Отрывки из нового альбома ZATMENIE - Держим марку 2015. До выхода осталось около месяца. Ценим, лайкаем, репост)Всем ценителям андеграунд рэпа, в предверии нового альбома записали тизер, броско но с чувством, скромно но со вкусом) Всем тем кто нас помнит, ZATMENIE, Fenix & Ecstaz, Авиастрой) Уже 2-ой альбом, новый уровень, осталось влёгкую) ценим.Мой сольный трек под название \"КОЧЕВНИК\", текст песни написан в 2013г., записан в 2014г., и доработан в этом году, так что уже залежался. Под легкое настроение. Та часть моего иноземного рэпа)\n",
      "\n",
      "текст, музыка, сведение: Fenix\n",
      "дизайн обложки: Сергей Грешный\n",
      "\n",
      "Отдельная благодарность Драгниру за содействие!Лютый совмес 2013 года. Феникс, Крюк, Социум щит. Понастальгируем пока сводится новый трекан)HIP-HOP All starS KZN 15 (27.02.2015)Литл бар 24.01.15Ценим новый трекан. Кто знает тот поймет. Приятного прослушивания. Zatmenie [Fenix] ft. Stereo Tip – КристинаЦеним новый трекан. Кто знает тот поймет. Приятного прослушивания.Когда-то давно старик открыл своему внуку одну жизненную истину.\n",
      "В каждом человеке идёт борьба, очень похожая на борьбу двух волков. Один волк представляет зло – зависть, ревность, эгоизм, амбиции, ложь… Другой волк представляет добро – мир, любовь, надежду, доброту, верность… \n",
      "Малыш, тронутый до глубины души словами деда, на несколько мгновений задумался, а потом спросил: \n",
      "– А какой волк в конце побеждает? \n",
      "Старик едва заметно улыбнулся и ответил: \n",
      "– Всегда побеждает тот волк, которого ты кормишь.★ КАСПИЙСКИЙ ГРУЗ|6.12.14|КАЗАНЬ|T.E.A.T.R.O. ★Видеосъемка с разогрева Каспийского2013Такая вот зарисовочка, в однеху пока, погрустим малость=)Цени новый клип - Zatmenie [Fenix], Stereo Tip, PlastTblPb - Дно. Всем большое спасибо и приятного просмотра!Zatmenie [Fenix], Stereo Tip, PlastTblPb - ДноПонастальгируем с корешом)На каждый новый год!) Всех с наступающим НГ ! НГАА ! ))))Скоро клипНужны две девушки для участия в клипе на трек \"Любовь и наркотики\"  \n",
      "Критерии: высокая, стройная, от 20 до 30 лет, актерские способности не важны, желающим писать в личку )Всем любителям растафарии. Новый экспериментик. Летний релакс такой, легкий как пыль, но жгучий как трава) продлим лето немного) расслабимся и помедитируем) всем веселого настроения!Совместно с земляками...Из нового альбома \"Последствия М\", многих улыбнуло, очень романтично=)Ценим новый альбом от Zatmenie [Fenix] - \"Последствия М\", при участии: Ecstaz, Stereo Tip, Социум щит, Крюк, Dragnir, Mirage, Крест, Taras\n",
      "Музыка: Fenix (Skolopendra beats), KIX (Domestic sound), Темный (Salvia divinorum)\n",
      "Сведение: Fenix\n",
      "Мастеринг: Dragnir\n",
      "Всем огромное спасибо и приятного прослушивания! Ссылка на скачивание альбома под видеоклипомтреки с 1 по 9треки с 10 по 18Цени новый альбом Zatmenie [Fenix] - \"Последствия М\". Всем большое спасибо и приятного прослушивания!Нас почти косарь)Ценим отрывки из нового альбома, дата выхода - июль 2013.Учавствуем на андерграунд вечеринке 20 апреля в \"Желтой кофте\" http://vk.com/k_memoriesДва трека, как два симптома одной аллергии. поэтому объединил. Всем любителям искаженной реальности. Возможны побочные эффекты. Рекомендую в наушниках. Приятного выноса мозга)Прошлогодний видос, его просто нет на стене почему то)Слушаем новый трек: Zatmenie - КолотунПовесть прошлых зим...Предлагаем вашему вниманию ремикс на недавний трек \"Всем местным\". ЦенимНаши минусовкиУчаствуем в Under battle - прошли во 2-ой турНовый трек с совместного альбома с группой Буриме, слушать на полную громкость!)Объединение \"Пападос.com\" представляет трек \"Парни с окраин\" с совместного альбома Буриме и Zatmenie. Приятного прослушивания. \n",
      " ЗАлили Новый Трэк!!! \n",
      "Zatmenie feat Аминадо - Посыл \n",
      "\n",
      "Ждём Коментариев!!!СЛушаем Новый Трэк НА БАТЛ!!!Zatmenie feat Аминадо - ЖДИТЕ ...Zatmenie - Приглашение. 23 апреля. Кафе \"Винил\". 2 новых трекаZatmenie - Happy new year!\n"
     ]
    }
   ],
   "source": [
    "print (zatmenie_official)"
   ]
  },
  {
   "cell_type": "code",
   "execution_count": 24,
   "metadata": {},
   "outputs": [],
   "source": [
    "pattern_link = re.compile(r\"[A-z0-9]+[/.\\/:]+[A-z0-9_]+[\\.\\/]+[A-z0-9]+[A-z1-9/\\.]+\\b\")"
   ]
  },
  {
   "cell_type": "code",
   "execution_count": 25,
   "metadata": {},
   "outputs": [
    {
     "name": "stdout",
     "output_type": "stream",
     "text": [
      " Предлагаю вашему вниманию мой сольный лирический трек, собранный на протяжении 3-х лет, в который вложена частичка души и годы отсутствия. Посвящается всем нашенским, всем близким и родным мне людям. \"Это душевная сага, таким же во благо...\" \n",
      "Салам Всем ДостойнымСтихотворение. 2020г. Автор: ФениксПока в разработке новые треки, понастальгируем стареньким андером былой юности. Доброго👐\n",
      "\n",
      "(2015 год, альбом \"Держи марку\")Зимняя совместка с Булатом из ТАСМА 87. Принять участия в сведении не удалось в силу моего отсутствия, но вроде не плохо 😉😊По просьбе людей зачел на камеру куплет. трек новый, сырой, настроение праздное, так что строго не судите. Всем НАШЕНСКИМ посвящается😉👋Zatmenie [Fenix] - Невидимые цепи (демо)СтихиНовый трек. В процессе сведения\"Первые впечатления\" (18+)\n",
      "\n",
      "луч света в хату промелькнул, \n",
      "но не сказать что солнцу рады\n",
      "сквозь стены слышен караул \n",
      "и вновь ебучая баланда\n",
      "условья тьма, суровый быт\n",
      "у мусаров всегда на мушке\n",
      "в хатах у нас перелимит\n",
      "холодная тюрьма-старушка\n",
      "шконарь, ущербнейший матрас\n",
      "осанка мне тут в хуй не впёрлась\n",
      "нормальный сон тут раз на раз\n",
      "и сквозь него всё тот же голос\n",
      "тёрки из-за воды\n",
      "кто-то чего забыл случайно\n",
      "рамс изо всякой хуеты\n",
      "а чё творить, шпана скучает\n",
      "вроде лафа - лежи, балдей\n",
      "быстрее дни не скоротаешь \n",
      "и тот ебаный банный день\n",
      "когда ты его пропускаешь\n",
      "в новинку мне такой режим\n",
      "хуйня делов - привыкнешь брат\n",
      "но, чёрт возьми, как не жужжи \n",
      "всё время что-то блять не так\n",
      "где же сплоченность та людская?\n",
      "где же то братское тепло?\n",
      "лишь возмущенно зубы скалят\n",
      "и недовольное ебло\n",
      "сейчас бы планчика вдохнуть\n",
      "и телочку хоть на часок\n",
      "так ждал, братан, не обессудь\n",
      "свободы золотой глоток\n",
      "по хатам понеслась молва - \n",
      "поставьте в курс, авось нагонят\n",
      "подпись в конце - \"С УВ Братва,\n",
      "по ВЗМ мне тусаните воли...\"\n",
      "\n",
      "осень 2015г., КЦ-2, х50. (с) ФениксКонцерт 2014Популярный трек 2013 года. Люди до сих пор помнят)Совместная работа 2019 с группой 87 Тасма. В старом добром стиле. ЦенимЭх, было время...\n",
      "2011г. Трое с АвиастрояКультовая темка 2014 года. По притче старого мудреца. Более форматно и интеллектуально. Настольгируем. 😉Новый трек и клип от Fenixa из Zatmeniя. Впервые за три года выложенный в сеть свежий материал и в дальнейшем будет ещё. Размораживаем прежний андер ) Всем своим и достойным. Рэпчик из авиастроя. С УВ ZATMENIE [Fenix] \n",
      "\n",
      "Текст: Fenix\n",
      "Музыка: Ybeat product\n",
      "Сведение, мастеринг: Fenix\n",
      "Съёмка, монтаж: iL Pro\n",
      "\n",
      "Ссылка на группу: WEBLINK\n",
      "Fenix: WEBLINKfenisioАУЕ 2013 \n",
      "Всему добропорядочному люду от всей души, старый совмес кто помнит и кому в новинку, пожелав всех благ, с искренним уважением и братским теплом, Женёк Крест и Артём Феникс 😁😎😉НОВЫЙ АЛЬБОМ В СЕТИ !!! Zatmenie - Держим Марку! Всем спасибо кто ждал!Всем спасибо за репосты!!!Zatmenie - Держим Марку!!! Альбом в сети !!!!!!!!!!Дададаааадаа Он слишком долго лежал!Кто то скажет что слегка не то. Но Zatmenie Всегда было не то что любят все =/ Сегодня день рождения Феникса. И В честь его стараний Альбом в сети. Вообщем Держим Марку =// Альбом задержался с выходом на 2 года. WEBLINKwkfx7P5_3K63ndНОВЫЙ АЛЬБОМ 2017Рано или поздно альбом я выложу.А сейчас для тех кто ждёт или ждал.Совместный трек с Эдгаром Гроссом ... СЛУХИ. \n",
      "На мой взгляд тема более чем актуальна))Зацени)) ЗА репост так же жмём 5. От Феникса всем привет!!!Сегодня Вечеринка !!!)Своим вход свободныйНе смотря на обстоятельства. Альбом ZATMENIE-Держим марку выйдет в скором времени.Треки Отдал на сведение.Обложка В процессе!.Всем спасибо!Представляем вам Команду ТАСМА 87. Лютые парни с которыми мы всегда на связи и на общении. ZATMENIE  так же приняли участи на их крутом альбоме. Предлагаю заценить трЭкан )\n",
      "P.s .Так получилось что мы уехали отдыхать кто куда=/ \n",
      "Альбом готов но требует мастеринга.Думаю в ближайшее время по прибытию обязательно выложим!Всем спасибо за внимание!!!Отрывки из нового альбома ZATMENIE - Держим марку 2015. До выхода осталось около месяца. Ценим, лайкаем, репост)Всем ценителям андеграунд рэпа, в предверии нового альбома записали тизер, броско но с чувством, скромно но со вкусом) Всем тем кто нас помнит, ZATMENIE, Fenix & Ecstaz, Авиастрой) Уже 2-ой альбом, новый уровень, осталось влёгкую) ценим.Мой сольный трек под название \"КОЧЕВНИК\", текст песни написан в 2013г., записан в 2014г., и доработан в этом году, так что уже залежался. Под легкое настроение. Та часть моего иноземного рэпа)\n",
      "\n",
      "текст, музыка, сведение: Fenix\n",
      "дизайн обложки: Сергей Грешный\n",
      "\n",
      "Отдельная благодарность Драгниру за содействие!Лютый совмес 2013 года. Феникс, Крюк, Социум щит. Понастальгируем пока сводится новый трекан)HIP-HOP All starS KZN 15 (WEBLINK)Литл бар 24.01.15Ценим новый трекан. Кто знает тот поймет. Приятного прослушивания. Zatmenie [Fenix] ft. Stereo Tip – КристинаЦеним новый трекан. Кто знает тот поймет. Приятного прослушивания.Когда-то давно старик открыл своему внуку одну жизненную истину.\n",
      "В каждом человеке идёт борьба, очень похожая на борьбу двух волков. Один волк представляет зло – зависть, ревность, эгоизм, амбиции, ложь… Другой волк представляет добро – мир, любовь, надежду, доброту, верность… \n",
      "Малыш, тронутый до глубины души словами деда, на несколько мгновений задумался, а потом спросил: \n",
      "– А какой волк в конце побеждает? \n",
      "Старик едва заметно улыбнулся и ответил: \n",
      "– Всегда побеждает тот волк, которого ты кормишь.★ КАСПИЙСКИЙ ГРУЗ|WEBLINK|КАЗАНЬ|WEBLINK. ★Видеосъемка с разогрева Каспийского2013Такая вот зарисовочка, в однеху пока, погрустим малость=)Цени новый клип - Zatmenie [Fenix], Stereo Tip, PlastTblPb - Дно. Всем большое спасибо и приятного просмотра!Zatmenie [Fenix], Stereo Tip, PlastTblPb - ДноПонастальгируем с корешом)На каждый новый год!) Всех с наступающим НГ ! НГАА ! ))))Скоро клипНужны две девушки для участия в клипе на трек \"Любовь и наркотики\"  \n",
      "Критерии: высокая, стройная, от 20 до 30 лет, актерские способности не важны, желающим писать в личку )Всем любителям растафарии. Новый экспериментик. Летний релакс такой, легкий как пыль, но жгучий как трава) продлим лето немного) расслабимся и помедитируем) всем веселого настроения!Совместно с земляками...Из нового альбома \"Последствия М\", многих улыбнуло, очень романтично=)Ценим новый альбом от Zatmenie [Fenix] - \"Последствия М\", при участии: Ecstaz, Stereo Tip, Социум щит, Крюк, Dragnir, Mirage, Крест, Taras\n",
      "Музыка: Fenix (Skolopendra beats), KIX (Domestic sound), Темный (Salvia divinorum)\n",
      "Сведение: Fenix\n",
      "Мастеринг: Dragnir\n",
      "Всем огромное спасибо и приятного прослушивания! Ссылка на скачивание альбома под видеоклипомтреки с 1 по 9треки с 10 по 18Цени новый альбом Zatmenie [Fenix] - \"Последствия М\". Всем большое спасибо и приятного прослушивания!Нас почти косарь)Ценим отрывки из нового альбома, дата выхода - июль 2013.Учавствуем на андерграунд вечеринке 20 апреля в \"Желтой кофте\" WEBLINKk_memoriesДва трека, как два симптома одной аллергии. поэтому объединил. Всем любителям искаженной реальности. Возможны побочные эффекты. Рекомендую в наушниках. Приятного выноса мозга)Прошлогодний видос, его просто нет на стене почему то)Слушаем новый трек: Zatmenie - КолотунПовесть прошлых зим...Предлагаем вашему вниманию ремикс на недавний трек \"Всем местным\". ЦенимНаши минусовкиУчаствуем в Under battle - прошли во 2-ой турНовый трек с совместного альбома с группой Буриме, слушать на полную громкость!)Объединение \"Пападос.com\" представляет трек \"Парни с окраин\" с совместного альбома Буриме и Zatmenie. Приятного прослушивания. \n",
      " ЗАлили Новый Трэк!!! \n",
      "Zatmenie feat Аминадо - Посыл \n",
      "\n",
      "Ждём Коментариев!!!СЛушаем Новый Трэк НА БАТЛ!!!Zatmenie feat Аминадо - ЖДИТЕ ...Zatmenie - Приглашение. 23 апреля. Кафе \"Винил\". 2 новых трекаZatmenie - Happy new year!\n"
     ]
    }
   ],
   "source": [
    "print(re.sub(pattern_link, \"WEBLINK\", zatmenie_official))"
   ]
  },
  {
   "cell_type": "code",
   "execution_count": 26,
   "metadata": {},
   "outputs": [],
   "source": [
    "def save_posts_to_file(filename, post):\n",
    "    with open(filename, 'w', encoding=\"utf-8\") as f:\n",
    "        f.write(post) "
   ]
  },
  {
   "cell_type": "code",
   "execution_count": 27,
   "metadata": {},
   "outputs": [],
   "source": [
    "aigelmusic_posts = get_posts(\"zatmenie_official\")\n",
    "\n",
    "save_posts_to_file(\"zatmenie_official_posts.tsv\", zatmenie_official)"
   ]
  },
  {
   "cell_type": "code",
   "execution_count": 28,
   "metadata": {},
   "outputs": [
    {
     "name": "stdout",
     "output_type": "stream",
     "text": [
      "Концертов у Zatmenie_official: 24\n"
     ]
    }
   ],
   "source": [
    "concert_counter = re.findall(r'К|концерт', zatmenie_official)\n",
    "print(\"Концертов у Zatmenie_official:\", len(concert_counter))"
   ]
  },
  {
   "cell_type": "code",
   "execution_count": null,
   "metadata": {},
   "outputs": [],
   "source": []
  },
  {
   "cell_type": "code",
   "execution_count": 28,
   "metadata": {},
   "outputs": [
    {
     "name": "stdout",
     "output_type": "stream",
     "text": [
      "Requirement already satisfied: natasha in c:\\users\\444\\anaconda3\\lib\\site-packages (1.3.0)\n",
      "Requirement already satisfied: pymorphy2 in c:\\users\\444\\anaconda3\\lib\\site-packages (from natasha) (0.9.1)\n",
      "Requirement already satisfied: razdel>=0.5.0 in c:\\users\\444\\anaconda3\\lib\\site-packages (from natasha) (0.5.0)\n",
      "Requirement already satisfied: navec>=0.9.0 in c:\\users\\444\\anaconda3\\lib\\site-packages (from natasha) (0.9.0)\n",
      "Requirement already satisfied: slovnet>=0.3.0 in c:\\users\\444\\anaconda3\\lib\\site-packages (from natasha) (0.4.0)\n",
      "Requirement already satisfied: yargy>=0.14.0 in c:\\users\\444\\anaconda3\\lib\\site-packages (from natasha) (0.14.0)\n",
      "Requirement already satisfied: ipymarkup>=0.8.0 in c:\\users\\444\\anaconda3\\lib\\site-packages (from natasha) (0.9.0)\n",
      "Requirement already satisfied: docopt>=0.6 in c:\\users\\444\\anaconda3\\lib\\site-packages (from pymorphy2->natasha) (0.6.2)\n",
      "Requirement already satisfied: pymorphy2-dicts-ru<3.0,>=2.4 in c:\\users\\444\\anaconda3\\lib\\site-packages (from pymorphy2->natasha) (2.4.404381.4453942)\n",
      "Requirement already satisfied: dawg-python>=0.7.1 in c:\\users\\444\\anaconda3\\lib\\site-packages (from pymorphy2->natasha) (0.7.2)\n",
      "Requirement already satisfied: numpy in c:\\users\\444\\anaconda3\\lib\\site-packages (from navec>=0.9.0->natasha) (1.18.5)\n",
      "Requirement already satisfied: intervaltree>=3 in c:\\users\\444\\anaconda3\\lib\\site-packages (from ipymarkup>=0.8.0->natasha) (3.0.2)\n",
      "Requirement already satisfied: sortedcontainers<3.0,>=2.0 in c:\\users\\444\\anaconda3\\lib\\site-packages (from intervaltree>=3->ipymarkup>=0.8.0->natasha) (2.2.2)\n"
     ]
    }
   ],
   "source": [
    "!pip install natasha"
   ]
  },
  {
   "cell_type": "code",
   "execution_count": 29,
   "metadata": {},
   "outputs": [],
   "source": [
    "from natasha import (Segmenter, MorphVocab, NewsEmbedding, \n",
    "NewsMorphTagger, NewsSyntaxParser, NewsNERTagger, PER, NamesExtractor, Doc)"
   ]
  },
  {
   "cell_type": "code",
   "execution_count": 30,
   "metadata": {},
   "outputs": [],
   "source": [
    "segmenter = Segmenter()\n",
    "morph_vocab = MorphVocab()\n",
    "\n",
    "emb = NewsEmbedding()\n",
    "morph_tagger = NewsMorphTagger(emb)\n",
    "syntax_parser = NewsSyntaxParser(emb)\n",
    "ner_tagger = NewsNERTagger(emb)\n",
    "names_extractor = NamesExtractor(morph_vocab)"
   ]
  },
  {
   "cell_type": "code",
   "execution_count": 34,
   "metadata": {},
   "outputs": [],
   "source": [
    "doc = Doc(zatmenie_official)\n",
    "doc.segment(segmenter)"
   ]
  },
  {
   "cell_type": "code",
   "execution_count": 35,
   "metadata": {},
   "outputs": [
    {
     "data": {
      "text/plain": [
       "['Предлагаю вашему вниманию мой сольный лирический трек, собранный на протяжении 3-х лет, в который вложена частичка души и годы отсутствия.',\n",
       " 'Посвящается всем нашенским, всем близким и родным мне людям.',\n",
       " '\"Это душевная сага, таким же во благо...\"',\n",
       " 'Салам Всем ДостойнымСтихотворение.',\n",
       " '2020г. Автор: ФениксПока в разработке новые треки, понастальгируем стареньким андером былой юности.',\n",
       " 'Доброго👐\\n\\n(2015 год, альбом \"Держи марку\")Зимняя совместка с Булатом из ТАСМА 87.',\n",
       " 'Принять участия в сведении не удалось в силу моего отсутствия, но вроде не плохо 😉😊По просьбе людей зачел на камеру куплет. трек новый, сырой, настроение праздное, так что строго не судите.',\n",
       " 'Всем НАШЕНСКИМ посвящается😉👋Zatmenie [Fenix] - Невидимые цепи (демо)СтихиНовый трек.',\n",
       " 'В процессе сведения\"Первые впечатления\" (18+)\\n\\nлуч света в хату промелькнул, \\nно не сказать что солнцу рады\\nсквозь стены слышен караул \\nи вновь ебучая баланда\\nусловья тьма, суровый быт\\nу мусаров всегда на мушке\\nв хатах у нас перелимит\\nхолодная тюрьма-старушка\\nшконарь, ущербнейший матрас\\nосанка мне тут в хуй не впёрлась\\nнормальный сон тут раз на раз\\nи сквозь него всё тот же голос\\nтёрки из-за воды\\nкто-то чего забыл случайно\\nрамс изо всякой хуеты\\nа чё творить, шпана скучает\\nвроде лафа - лежи, балдей\\nбыстрее дни не скоротаешь \\nи тот ебаный банный день\\nкогда ты его пропускаешь\\nв новинку мне такой режим\\nхуйня делов - привыкнешь брат\\nно, чёрт возьми, как не жужжи \\nвсё время что-то блять не так\\nгде же сплоченность та людская?\\nгде же то братское тепло?\\nлишь возмущенно зубы скалят\\nи недовольное ебло\\nсейчас бы планчика вдохнуть\\nи телочку хоть на часок\\nтак ждал, братан, не обессудь\\nсвободы золотой глоток\\nпо хатам понеслась молва - \\nпоставьте в курс, авось нагонят\\nподпись в конце - \"С УВ Братва,\\nпо ВЗМ мне тусаните воли...\"\\n\\nосень 2015г., КЦ-2, х50.',\n",
       " '(с) ФениксКонцерт 2014Популярный трек 2013 года.',\n",
       " 'Люди до сих пор помнят)Совместная работа 2019 с группой 87 Тасма.',\n",
       " 'В старом добром стиле.',\n",
       " 'ЦенимЭх, было время...',\n",
       " '2011г. Трое с АвиастрояКультовая темка 2014 года.',\n",
       " 'По притче старого мудреца.',\n",
       " 'Более форматно и интеллектуально.',\n",
       " 'Настольгируем.',\n",
       " '😉Новый трек и клип от Fenixa из Zatmeniя.',\n",
       " 'Впервые за три года выложенный в сеть свежий материал и в дальнейшем будет ещё.',\n",
       " 'Размораживаем прежний андер ) Всем своим и достойным.',\n",
       " 'Рэпчик из авиастроя.',\n",
       " 'С УВ ZATMENIE [Fenix] \\n\\nТекст: Fenix\\nМузыка: Ybeat product\\nСведение, мастеринг: Fenix\\nСъёмка, монтаж: iL Pro\\n\\nСсылка на группу: https://vk.com/zatmenie_official\\nFenix: https://vk.com/fenisioАУЕ 2013 \\nВсему добропорядочному люду от всей души, старый совмес кто помнит и кому в новинку, пожелав всех благ, с искренним уважением и братским теплом, Женёк Крест и Артём Феникс 😁😎😉НОВЫЙ АЛЬБОМ В СЕТИ !!!',\n",
       " 'Zatmenie - Держим Марку!',\n",
       " 'Всем спасибо кто ждал!Всем спасибо за репосты!!!Zatmenie - Держим Марку!!!',\n",
       " 'Альбом в сети !!!!!!!!!!Дададаааадаа Он слишком долго лежал!Кто то скажет что слегка не то.',\n",
       " 'Но Zatmenie Всегда было не то что любят все =/ Сегодня день рождения Феникса.',\n",
       " 'И В честь его стараний Альбом в сети.',\n",
       " 'Вообщем Держим Марку =// Альбом задержался с выходом на 2 года. https://yadi.sk/d/wkfx7P5_3K63ndНОВЫЙ АЛЬБОМ 2017Рано или поздно альбом я выложу.А сейчас для тех кто ждёт или ждал.Совместный трек с Эдгаром Гроссом ...',\n",
       " 'СЛУХИ.',\n",
       " 'На мой взгляд тема более чем актуальна))Зацени)) ЗА репост так же жмём 5.',\n",
       " 'От Феникса всем привет!!!Сегодня Вечеринка !!!)Своим вход свободныйНе смотря на обстоятельства.',\n",
       " 'Альбом ZATMENIE-Держим марку выйдет в скором времени.Треки Отдал на сведение.Обложка В процессе!.Всем спасибо!Представляем вам Команду ТАСМА 87.',\n",
       " 'Лютые парни с которыми мы всегда на связи и на общении.',\n",
       " 'ZATMENIE  так же приняли участи на их крутом альбоме.',\n",
       " 'Предлагаю заценить трЭкан )\\nP.s .Так получилось что мы уехали отдыхать кто куда=/ \\nАльбом готов но требует мастеринга.Думаю в ближайшее время по прибытию обязательно выложим!Всем спасибо за внимание!!!Отрывки из нового альбома ZATMENIE - Держим марку 2015.',\n",
       " 'До выхода осталось около месяца.',\n",
       " 'Ценим, лайкаем, репост)Всем ценителям андеграунд рэпа, в предверии нового альбома записали тизер, броско но с чувством, скромно но со вкусом) Всем тем кто нас помнит, ZATMENIE, Fenix & Ecstaz, Авиастрой) Уже 2-ой альбом, новый уровень, осталось влёгкую) ценим.Мой сольный трек под название \"КОЧЕВНИК\", текст песни написан в 2013г., записан в 2014г., и доработан в этом году, так что уже залежался.',\n",
       " 'Под легкое настроение.',\n",
       " 'Та часть моего иноземного рэпа)\\n\\nтекст, музыка, сведение: Fenix\\nдизайн обложки: Сергей Грешный\\n\\nОтдельная благодарность Драгниру за содействие!Лютый совмес 2013 года.',\n",
       " 'Феникс, Крюк, Социум щит.',\n",
       " 'Понастальгируем пока сводится новый трекан)HIP-HOP All starS KZN 15 (27.02.2015)Литл бар 24.01.15Ценим новый трекан.',\n",
       " 'Кто знает тот поймет.',\n",
       " 'Приятного прослушивания.',\n",
       " 'Zatmenie [Fenix] ft.',\n",
       " 'Stereo Tip – КристинаЦеним новый трекан.',\n",
       " 'Кто знает тот поймет.',\n",
       " 'Приятного прослушивания.Когда-то давно старик открыл своему внуку одну жизненную истину.',\n",
       " 'В каждом человеке идёт борьба, очень похожая на борьбу двух волков.',\n",
       " 'Один волк представляет зло – зависть, ревность, эгоизм, амбиции, ложь…',\n",
       " 'Другой волк представляет добро – мир, любовь, надежду, доброту, верность…',\n",
       " 'Малыш, тронутый до глубины души словами деда, на несколько мгновений задумался, а потом спросил: \\n– А какой волк в конце побеждает?',\n",
       " 'Старик едва заметно улыбнулся и ответил: \\n– Всегда побеждает тот волк, которого ты кормишь.★ КАСПИЙСКИЙ ГРУЗ|6.12.14|КАЗАНЬ|T.E.A.T.R.O. ★Видеосъемка с разогрева Каспийского2013Такая вот зарисовочка, в однеху пока, погрустим малость=)Цени новый клип - Zatmenie [Fenix], Stereo Tip, PlastTblPb - Дно.',\n",
       " 'Всем большое спасибо и приятного просмотра!Zatmenie [Fenix], Stereo Tip, PlastTblPb - ДноПонастальгируем с корешом)На каждый новый год!)',\n",
       " 'Всех с наступающим НГ !',\n",
       " 'НГАА ! ))))Скоро клипНужны две девушки для участия в клипе на трек \"Любовь и наркотики\"  \\nКритерии: высокая, стройная, от 20 до 30 лет, актерские способности не важны, желающим писать в личку )Всем любителям растафарии.',\n",
       " 'Новый экспериментик.',\n",
       " 'Летний релакс такой, легкий как пыль, но жгучий как трава) продлим лето немного) расслабимся и помедитируем) всем веселого настроения!Совместно с земляками...Из нового альбома \"Последствия М\", многих улыбнуло, очень романтично=)Ценим новый альбом от Zatmenie [Fenix] - \"Последствия М\", при участии: Ecstaz, Stereo Tip, Социум щит, Крюк, Dragnir, Mirage, Крест, Taras\\nМузыка: Fenix (Skolopendra beats), KIX (Domestic sound), Темный (Salvia divinorum)\\nСведение: Fenix\\nМастеринг: Dragnir\\nВсем огромное спасибо и приятного прослушивания!',\n",
       " 'Ссылка на скачивание альбома под видеоклипомтреки с 1 по 9треки с 10 по 18Цени новый альбом Zatmenie [Fenix] - \"Последствия М\".',\n",
       " 'Всем большое спасибо и приятного прослушивания!Нас почти косарь)Ценим отрывки из нового альбома, дата выхода - июль 2013.Учавствуем на андерграунд вечеринке 20 апреля в \"Желтой кофте\" http://vk.com/k_memoriesДва трека, как два симптома одной аллергии. поэтому объединил.',\n",
       " 'Всем любителям искаженной реальности.',\n",
       " 'Возможны побочные эффекты.',\n",
       " 'Рекомендую в наушниках.',\n",
       " 'Приятного выноса мозга)Прошлогодний видос, его просто нет на стене почему то)Слушаем новый трек: Zatmenie - КолотунПовесть прошлых зим...Предлагаем вашему вниманию ремикс на недавний трек \"Всем местным\".',\n",
       " 'ЦенимНаши минусовкиУчаствуем в Under battle - прошли во 2-ой турНовый трек с совместного альбома с группой Буриме, слушать на полную громкость!)Объединение \"Пападос.com\" представляет трек \"Парни с окраин\" с совместного альбома Буриме и Zatmenie.',\n",
       " 'Приятного прослушивания.',\n",
       " 'ЗАлили Новый Трэк!!!',\n",
       " 'Zatmenie feat Аминадо - Посыл \\n\\nЖдём Коментариев!!!СЛушаем Новый Трэк НА БАТЛ!!!Zatmenie feat Аминадо - ЖДИТЕ ...Zatmenie - Приглашение.',\n",
       " '23 апреля.',\n",
       " 'Кафе \"Винил\".',\n",
       " '2 новых трекаZatmenie - Happy new year!']"
      ]
     },
     "execution_count": 35,
     "metadata": {},
     "output_type": "execute_result"
    }
   ],
   "source": [
    "[i.text for i in doc.sents]"
   ]
  },
  {
   "cell_type": "code",
   "execution_count": 36,
   "metadata": {},
   "outputs": [
    {
     "name": "stdout",
     "output_type": "stream",
     "text": [
      "['Предлагаю', 'вашему', 'вниманию', 'мой', 'сольный', 'лирический', 'трек', ',', 'собранный', 'на', 'протяжении', '3-х', 'лет', ',', 'в', 'который', 'вложена', 'частичка', 'души', 'и', 'годы', 'отсутствия', '.', 'Посвящается', 'всем', 'нашенским', ',', 'всем', 'близким', 'и', 'родным', 'мне', 'людям', '.', '\"', 'Это', 'душевная', 'сага', ',', 'таким', 'же', 'во', 'благо', '...', '\"', 'Салам', 'Всем', 'ДостойнымСтихотворение', '.', '2020', 'г', '.', 'Автор', ':', 'ФениксПока', 'в', 'разработке', 'новые', 'треки', ',', 'понастальгируем', 'стареньким', 'андером', 'былой', 'юности', '.', 'Доброго👐', '(', '2015', 'год', ',', 'альбом', '\"', 'Держи', 'марку', '\"', ')', 'Зимняя', 'совместка', 'с', 'Булатом', 'из', 'ТАСМА', '87', '.', 'Принять', 'участия', 'в', 'сведении', 'не', 'удалось', 'в', 'силу', 'моего', 'отсутствия', ',', 'но', 'вроде', 'не', 'плохо', '😉😊По', 'просьбе', 'людей', 'зачел', 'на', 'камеру', 'куплет', '.', 'трек', 'новый', ',', 'сырой', ',', 'настроение', 'праздное', ',', 'так', 'что', 'строго', 'не', 'судите', '.', 'Всем', 'НАШЕНСКИМ', 'посвящается😉👋Zatmenie', '[', 'Fenix', ']', '-', 'Невидимые', 'цепи', '(', 'демо', ')', 'СтихиНовый', 'трек', '.', 'В', 'процессе', 'сведения', '\"', 'Первые', 'впечатления', '\"', '(', '18', '+', ')', 'луч', 'света', 'в', 'хату', 'промелькнул', ',', 'но', 'не', 'сказать', 'что', 'солнцу', 'рады', 'сквозь', 'стены', 'слышен', 'караул', 'и', 'вновь', 'ебучая', 'баланда', 'условья', 'тьма', ',', 'суровый', 'быт', 'у', 'мусаров', 'всегда', 'на', 'мушке', 'в', 'хатах', 'у', 'нас', 'перелимит', 'холодная', 'тюрьма-старушка', 'шконарь', ',', 'ущербнейший', 'матрас', 'осанка', 'мне', 'тут', 'в', 'хуй', 'не', 'впёрлась', 'нормальный', 'сон', 'тут', 'раз', 'на', 'раз', 'и', 'сквозь', 'него', 'всё', 'тот', 'же', 'голос', 'тёрки', 'из-за', 'воды', 'кто-то', 'чего', 'забыл', 'случайно', 'рамс', 'изо', 'всякой', 'хуеты', 'а', 'чё', 'творить', ',', 'шпана', 'скучает', 'вроде', 'лафа', '-', 'лежи', ',', 'балдей', 'быстрее', 'дни', 'не', 'скоротаешь', 'и', 'тот', 'ебаный', 'банный', 'день', 'когда', 'ты', 'его', 'пропускаешь', 'в', 'новинку', 'мне', 'такой', 'режим', 'хуйня', 'делов', '-', 'привыкнешь', 'брат', 'но', ',', 'чёрт', 'возьми', ',', 'как', 'не', 'жужжи', 'всё', 'время', 'что-то', 'блять', 'не', 'так', 'где', 'же', 'сплоченность', 'та', 'людская', '?', 'где', 'же', 'то', 'братское', 'тепло', '?', 'лишь', 'возмущенно', 'зубы', 'скалят', 'и', 'недовольное', 'ебло', 'сейчас', 'бы', 'планчика', 'вдохнуть', 'и', 'телочку', 'хоть', 'на', 'часок', 'так', 'ждал', ',', 'братан', ',', 'не', 'обессудь', 'свободы', 'золотой', 'глоток', 'по', 'хатам', 'понеслась', 'молва', '-', 'поставьте', 'в', 'курс', ',', 'авось', 'нагонят', 'подпись', 'в', 'конце', '-', '\"', 'С', 'УВ', 'Братва', ',', 'по', 'ВЗМ', 'мне', 'тусаните', 'воли', '...', '\"', 'осень', '2015', 'г', '.', ',', 'КЦ-2', ',', 'х', '50', '.', '(', 'с', ')', 'ФениксКонцерт', '2014', 'Популярный', 'трек', '2013', 'года', '.', 'Люди', 'до', 'сих', 'пор', 'помнят', ')', 'Совместная', 'работа', '2019', 'с', 'группой', '87', 'Тасма', '.', 'В', 'старом', 'добром', 'стиле', '.', 'ЦенимЭх', ',', 'было', 'время', '...', '2011', 'г', '.', 'Трое', 'с', 'АвиастрояКультовая', 'темка', '2014', 'года', '.', 'По', 'притче', 'старого', 'мудреца', '.', 'Более', 'форматно', 'и', 'интеллектуально', '.', 'Настольгируем', '.', '😉Новый', 'трек', 'и', 'клип', 'от', 'Fenixa', 'из', 'Zatmeni', 'я', '.', 'Впервые', 'за', 'три', 'года', 'выложенный', 'в', 'сеть', 'свежий', 'материал', 'и', 'в', 'дальнейшем', 'будет', 'ещё', '.', 'Размораживаем', 'прежний', 'андер', ')', 'Всем', 'своим', 'и', 'достойным', '.', 'Рэпчик', 'из', 'авиастроя', '.', 'С', 'УВ', 'ZATMENIE', '[', 'Fenix', ']', 'Текст', ':', 'Fenix', 'Музыка', ':', 'Ybeat', 'product', 'Сведение', ',', 'мастеринг', ':', 'Fenix', 'Съёмка', ',', 'монтаж', ':', 'iL', 'Pro', 'Ссылка', 'на', 'группу', ':', 'https', ':', '/', '/', 'vk', '.', 'com', '/', 'zatmenie_official', 'Fenix', ':', 'https', ':', '/', '/', 'vk', '.', 'com', '/', 'fenisio', 'АУЕ', '2013', 'Всему', 'добропорядочному', 'люду', 'от', 'всей', 'души', ',', 'старый', 'совмес', 'кто', 'помнит', 'и', 'кому', 'в', 'новинку', ',', 'пожелав', 'всех', 'благ', ',', 'с', 'искренним', 'уважением', 'и', 'братским', 'теплом', ',', 'Женёк', 'Крест', 'и', 'Артём', 'Феникс', '😁😎😉НОВЫЙ', 'АЛЬБОМ', 'В', 'СЕТИ', '!!!', 'Zatmenie', '-', 'Держим', 'Марку', '!', 'Всем', 'спасибо', 'кто', 'ждал', '!', 'Всем', 'спасибо', 'за', 'репосты', '!!!', 'Zatmenie', '-', 'Держим', 'Марку', '!!!', 'Альбом', 'в', 'сети', '!!!!!!!!!!', 'Дададаааадаа', 'Он', 'слишком', 'долго', 'лежал', '!', 'Кто', 'то', 'скажет', 'что', 'слегка', 'не', 'то', '.', 'Но', 'Zatmenie', 'Всегда', 'было', 'не', 'то', 'что', 'любят', 'все', '=', '/', 'Сегодня', 'день', 'рождения', 'Феникса', '.', 'И', 'В', 'честь', 'его', 'стараний', 'Альбом', 'в', 'сети', '.', 'Вообщем', 'Держим', 'Марку', '=', '/', '/', 'Альбом', 'задержался', 'с', 'выходом', 'на', '2', 'года', '.', 'https', ':', '/', '/', 'yadi', '.', 'sk', '/', 'd', '/', 'wkfx', '7', 'P', '5_3', 'K', '63', 'nd', 'НОВЫЙ', 'АЛЬБОМ', '2017', 'Рано', 'или', 'поздно', 'альбом', 'я', 'выложу', '.', 'А', 'сейчас', 'для', 'тех', 'кто', 'ждёт', 'или', 'ждал', '.', 'Совместный', 'трек', 'с', 'Эдгаром', 'Гроссом', '...', 'СЛУХИ', '.', 'На', 'мой', 'взгляд', 'тема', 'более', 'чем', 'актуальна', ')', ')', 'Зацени', ')', ')', 'ЗА', 'репост', 'так', 'же', 'жмём', '5', '.', 'От', 'Феникса', 'всем', 'привет', '!!!', 'Сегодня', 'Вечеринка', '!!!', ')', 'Своим', 'вход', 'свободныйНе', 'смотря', 'на', 'обстоятельства', '.', 'Альбом', 'ZATMENIE-Держим', 'марку', 'выйдет', 'в', 'скором', 'времени', '.', 'Треки', 'Отдал', 'на', 'сведение', '.', 'Обложка', 'В', 'процессе', '!.', 'Всем', 'спасибо', '!', 'Представляем', 'вам', 'Команду', 'ТАСМА', '87', '.', 'Лютые', 'парни', 'с', 'которыми', 'мы', 'всегда', 'на', 'связи', 'и', 'на', 'общении', '.', 'ZATMENIE', 'так', 'же', 'приняли', 'участи', 'на', 'их', 'крутом', 'альбоме', '.', 'Предлагаю', 'заценить', 'трЭкан', ')', 'P', '.', 's', '.', 'Так', 'получилось', 'что', 'мы', 'уехали', 'отдыхать', 'кто', 'куда', '=', '/', 'Альбом', 'готов', 'но', 'требует', 'мастеринга', '.', 'Думаю', 'в', 'ближайшее', 'время', 'по', 'прибытию', 'обязательно', 'выложим', '!', 'Всем', 'спасибо', 'за', 'внимание', '!!!', 'Отрывки', 'из', 'нового', 'альбома', 'ZATMENIE', '-', 'Держим', 'марку', '2015', '.', 'До', 'выхода', 'осталось', 'около', 'месяца', '.', 'Ценим', ',', 'лайкаем', ',', 'репост', ')', 'Всем', 'ценителям', 'андеграунд', 'рэпа', ',', 'в', 'предверии', 'нового', 'альбома', 'записали', 'тизер', ',', 'броско', 'но', 'с', 'чувством', ',', 'скромно', 'но', 'со', 'вкусом', ')', 'Всем', 'тем', 'кто', 'нас', 'помнит', ',', 'ZATMENIE', ',', 'Fenix', '&', 'Ecstaz', ',', 'Авиастрой', ')', 'Уже', '2-ой', 'альбом', ',', 'новый', 'уровень', ',', 'осталось', 'влёгкую', ')', 'ценим', '.', 'Мой', 'сольный', 'трек', 'под', 'название', '\"', 'КОЧЕВНИК', '\"', ',', 'текст', 'песни', 'написан', 'в', '2013', 'г', '.', ',', 'записан', 'в', '2014', 'г', '.', ',', 'и', 'доработан', 'в', 'этом', 'году', ',', 'так', 'что', 'уже', 'залежался', '.', 'Под', 'легкое', 'настроение', '.', 'Та', 'часть', 'моего', 'иноземного', 'рэпа', ')', 'текст', ',', 'музыка', ',', 'сведение', ':', 'Fenix', 'дизайн', 'обложки', ':', 'Сергей', 'Грешный', 'Отдельная', 'благодарность', 'Драгниру', 'за', 'содействие', '!', 'Лютый', 'совмес', '2013', 'года', '.', 'Феникс', ',', 'Крюк', ',', 'Социум', 'щит', '.', 'Понастальгируем', 'пока', 'сводится', 'новый', 'трекан', ')', 'HIP-HOP', 'All', 'starS', 'KZN', '15', '(', '27.02.2015', ')', 'Литл', 'бар', '24.01.15', 'Ценим', 'новый', 'трекан', '.', 'Кто', 'знает', 'тот', 'поймет', '.', 'Приятного', 'прослушивания', '.', 'Zatmenie', '[', 'Fenix', ']', 'ft', '.', 'Stereo', 'Tip', '–', 'КристинаЦеним', 'новый', 'трекан', '.', 'Кто', 'знает', 'тот', 'поймет', '.', 'Приятного', 'прослушивания', '.', 'Когда-то', 'давно', 'старик', 'открыл', 'своему', 'внуку', 'одну', 'жизненную', 'истину', '.', 'В', 'каждом', 'человеке', 'идёт', 'борьба', ',', 'очень', 'похожая', 'на', 'борьбу', 'двух', 'волков', '.', 'Один', 'волк', 'представляет', 'зло', '–', 'зависть', ',', 'ревность', ',', 'эгоизм', ',', 'амбиции', ',', 'ложь', '…', 'Другой', 'волк', 'представляет', 'добро', '–', 'мир', ',', 'любовь', ',', 'надежду', ',', 'доброту', ',', 'верность', '…', 'Малыш', ',', 'тронутый', 'до', 'глубины', 'души', 'словами', 'деда', ',', 'на', 'несколько', 'мгновений', 'задумался', ',', 'а', 'потом', 'спросил', ':', '–', 'А', 'какой', 'волк', 'в', 'конце', 'побеждает', '?', 'Старик', 'едва', 'заметно', 'улыбнулся', 'и', 'ответил', ':', '–', 'Всегда', 'побеждает', 'тот', 'волк', ',', 'которого', 'ты', 'кормишь', '.', '★', 'КАСПИЙСКИЙ', 'ГРУЗ', '|', '6.12.14', '|', 'КАЗАНЬ', '|', 'T', '.', 'E', '.', 'A', '.', 'T', '.', 'R', '.', 'O', '.', '★Видеосъемка', 'с', 'разогрева', 'Каспийского', '2013', 'Такая', 'вот', 'зарисовочка', ',', 'в', 'однеху', 'пока', ',', 'погрустим', 'малость', '=)', 'Цени', 'новый', 'клип', '-', 'Zatmenie', '[', 'Fenix', ']', ',', 'Stereo', 'Tip', ',', 'PlastTblPb', '-', 'Дно', '.', 'Всем', 'большое', 'спасибо', 'и', 'приятного', 'просмотра', '!', 'Zatmenie', '[', 'Fenix', ']', ',', 'Stereo', 'Tip', ',', 'PlastTblPb', '-', 'ДноПонастальгируем', 'с', 'корешом', ')', 'На', 'каждый', 'новый', 'год', '!', ')', 'Всех', 'с', 'наступающим', 'НГ', '!', 'НГАА', '!', ')', ')', ')', ')', 'Скоро', 'клипНужны', 'две', 'девушки', 'для', 'участия', 'в', 'клипе', 'на', 'трек', '\"', 'Любовь', 'и', 'наркотики', '\"', 'Критерии', ':', 'высокая', ',', 'стройная', ',', 'от', '20', 'до', '30', 'лет', ',', 'актерские', 'способности', 'не', 'важны', ',', 'желающим', 'писать', 'в', 'личку', ')', 'Всем', 'любителям', 'растафарии', '.', 'Новый', 'экспериментик', '.', 'Летний', 'релакс', 'такой', ',', 'легкий', 'как', 'пыль', ',', 'но', 'жгучий', 'как', 'трава', ')', 'продлим', 'лето', 'немного', ')', 'расслабимся', 'и', 'помедитируем', ')', 'всем', 'веселого', 'настроения', '!', 'Совместно', 'с', 'земляками', '...', 'Из', 'нового', 'альбома', '\"', 'Последствия', 'М', '\"', ',', 'многих', 'улыбнуло', ',', 'очень', 'романтично', '=)', 'Ценим', 'новый', 'альбом', 'от', 'Zatmenie', '[', 'Fenix', ']', '-', '\"', 'Последствия', 'М', '\"', ',', 'при', 'участии', ':', 'Ecstaz', ',', 'Stereo', 'Tip', ',', 'Социум', 'щит', ',', 'Крюк', ',', 'Dragnir', ',', 'Mirage', ',', 'Крест', ',', 'Taras', 'Музыка', ':', 'Fenix', '(', 'Skolopendra', 'beats', ')', ',', 'KIX', '(', 'Domestic', 'sound', ')', ',', 'Темный', '(', 'Salvia', 'divinorum', ')', 'Сведение', ':', 'Fenix', 'Мастеринг', ':', 'Dragnir', 'Всем', 'огромное', 'спасибо', 'и', 'приятного', 'прослушивания', '!', 'Ссылка', 'на', 'скачивание', 'альбома', 'под', 'видеоклипомтреки', 'с', '1', 'по', '9', 'треки', 'с', '10', 'по', '18', 'Цени', 'новый', 'альбом', 'Zatmenie', '[', 'Fenix', ']', '-', '\"', 'Последствия', 'М', '\"', '.', 'Всем', 'большое', 'спасибо', 'и', 'приятного', 'прослушивания', '!', 'Нас', 'почти', 'косарь', ')', 'Ценим', 'отрывки', 'из', 'нового', 'альбома', ',', 'дата', 'выхода', '-', 'июль', '2013', '.', 'Учавствуем', 'на', 'андерграунд', 'вечеринке', '20', 'апреля', 'в', '\"', 'Желтой', 'кофте', '\"', 'http', ':', '/', '/', 'vk', '.', 'com', '/', 'k_memories', 'Два', 'трека', ',', 'как', 'два', 'симптома', 'одной', 'аллергии', '.', 'поэтому', 'объединил', '.', 'Всем', 'любителям', 'искаженной', 'реальности', '.', 'Возможны', 'побочные', 'эффекты', '.', 'Рекомендую', 'в', 'наушниках', '.', 'Приятного', 'выноса', 'мозга', ')', 'Прошлогодний', 'видос', ',', 'его', 'просто', 'нет', 'на', 'стене', 'почему', 'то', ')', 'Слушаем', 'новый', 'трек', ':', 'Zatmenie', '-', 'КолотунПовесть', 'прошлых', 'зим', '...', 'Предлагаем', 'вашему', 'вниманию', 'ремикс', 'на', 'недавний', 'трек', '\"', 'Всем', 'местным', '\"', '.', 'ЦенимНаши', 'минусовкиУчаствуем', 'в', 'Under', 'battle', '-', 'прошли', 'во', '2-ой', 'турНовый', 'трек', 'с', 'совместного', 'альбома', 'с', 'группой', 'Буриме', ',', 'слушать', 'на', 'полную', 'громкость', '!', ')', 'Объединение', '\"', 'Пападос', '.', 'com', '\"', 'представляет', 'трек', '\"', 'Парни', 'с', 'окраин', '\"', 'с', 'совместного', 'альбома', 'Буриме', 'и', 'Zatmenie', '.', 'Приятного', 'прослушивания', '.', 'ЗАлили', 'Новый', 'Трэк', '!!!', 'Zatmenie', 'feat', 'Аминадо', '-', 'Посыл', 'Ждём', 'Коментариев', '!!!', 'СЛушаем', 'Новый', 'Трэк', 'НА', 'БАТЛ', '!!!', 'Zatmenie', 'feat', 'Аминадо', '-', 'ЖДИТЕ', '...', 'Zatmenie', '-', 'Приглашение', '.', '23', 'апреля', '.', 'Кафе', '\"', 'Винил', '\"', '.', '2', 'новых', 'трека', 'Zatmenie', '-', 'Happy', 'new', 'year', '!']\n"
     ]
    }
   ],
   "source": [
    "print([i.text for i in doc.tokens])"
   ]
  },
  {
   "cell_type": "code",
   "execution_count": 37,
   "metadata": {},
   "outputs": [],
   "source": [
    "doc.tag_morph(morph_tagger)\n",
    "for token in doc.tokens:\n",
    "    token.lemmatize(morph_vocab)"
   ]
  },
  {
   "cell_type": "code",
   "execution_count": 38,
   "metadata": {},
   "outputs": [
    {
     "name": "stdout",
     "output_type": "stream",
     "text": [
      "['предлагать', 'ваш', 'внимание', 'мой', 'сольный', 'лирический', 'трек', ',', 'собрать', 'на', 'протяжение', '3-х', 'год', ',', 'в', 'который', 'вложить', 'частичка', 'душа', 'и', 'год', 'отсутствие', '.', 'посвящаться', 'весь', 'нашенский', ',', 'весь', 'близкие', 'и', 'родные', 'я', 'человек', '.', '\"', 'это', 'душевный', 'сага', ',', 'такой', 'же', 'в', 'благо', '...', '\"', 'сало', 'весь', 'достойнымстихотворение', '.', '2020', 'г', '.', 'автор', ':', 'феникспока', 'в', 'разработка', 'новый', 'трек', ',', 'понастальгировать', 'старенький', 'андер', 'былой', 'юность', '.', 'доброго👐', '(', '2015', 'год', ',', 'альбом', '\"', 'держать', 'марку', '\"', ')', 'зимний', 'совместка', 'с', 'булат', 'из', 'тасмо', '87', '.', 'принять', 'участие', 'в', 'сведение', 'не', 'удаться', 'в', 'сила', 'мой', 'отсутствие', ',', 'но', 'вроде', 'не', 'плохой', '😉😊по', 'просьба', 'человек', 'зачесть', 'на', 'камера', 'куплет', '.', 'трек', 'новый', ',', 'сырой', ',', 'настроение', 'праздный', ',', 'так', 'что', 'строго', 'не', 'судить', '.', 'весь', 'нашенский', 'посвящается😉👋zatmenie', '[', 'fenix', ']', '-', 'невидимый', 'цепь', '(', 'дть', ')', 'стихиновый', 'трек', '.', 'в', 'процесс', 'сведение', '\"', 'первый', 'впечатление', '\"', '(', '18', '+', ')', 'луч', 'свет', 'в', 'хата', 'промелькнуть', ',', 'но', 'не', 'сказать', 'что', 'солнце', 'рада', 'сквозь', 'стена', 'слышный', 'караул', 'и', 'вновь', 'ебучаять', 'баланда', 'условие', 'тьма', ',', 'суровый', 'быт', 'у', 'мусар', 'всегда', 'на', 'мушка', 'в', 'хата', 'у', 'мы', 'перелимит', 'холодный', 'тюрьма-старушка', 'шконарь', ',', 'ущербный', 'матрас', 'осанка', 'я', 'тут', 'в', 'хуй', 'не', 'впереться', 'нормальный', 'сон', 'тут', 'раз', 'на', 'раз', 'и', 'сквозь', 'он', 'весь', 'тот', 'же', 'голос', 'терка', 'из-за', 'вода', 'кто-то', 'что', 'забыть', 'случайно', 'рамс', 'из', 'всякий', 'хуета', 'а', 'че', 'творить', ',', 'шпана', 'скучать', 'вроде', 'лафа', '-', 'лежать', ',', 'балдеть', 'быстрый', 'день', 'не', 'скоротать', 'и', 'тот', 'ебаный', 'банный', 'день', 'когда', 'ты', 'он', 'пропускать', 'в', 'новинка', 'я', 'такой', 'режим', 'хуйня', 'дело', '-', 'привыкнуть', 'брат', 'но', ',', 'черт', 'взять', ',', 'как', 'не', 'жужжать', 'весь', 'время', 'что-то', 'блять', 'не', 'так', 'где', 'же', 'сплоченность', 'тот', 'людская', '?', 'где', 'же', 'то', 'братский', 'тепло', '?', 'лишь', 'возмущенно', 'зуб', 'скалят', 'и', 'недовольный', 'ебло', 'сейчас', 'бы', 'планчик', 'вдохнуть', 'и', 'телочка', 'хоть', 'на', 'часок', 'так', 'ждать', ',', 'братан', ',', 'не', 'обессудить', 'свобода', 'золотой', 'глоток', 'по', 'хатам', 'понестись', 'молва', '-', 'поставить', 'в', 'курс', ',', 'авось', 'нагнать', 'подпись', 'в', 'конец', '-', '\"', 'с', 'ува', 'братва', ',', 'по', 'взм', 'я', 'тусануть', 'воля', '...', '\"', 'осень', '2015', 'г', '.', ',', 'кц-2', ',', 'х', '50', '.', '(', 'с', ')', 'фениксконцерт', '2014', 'популярный', 'трек', '2013', 'год', '.', 'человек', 'до', 'сей', 'пора', 'помнить', ')', 'совместный', 'работа', '2019', 'с', 'группа', '87', 'тасма', '.', 'в', 'старый', 'добрый', 'стиль', '.', 'ценимэхо', ',', 'быть', 'время', '...', '2011', 'г', '.', 'трое', 'с', 'авиастроякультовый', 'темка', '2014', 'год', '.', 'по', 'притча', 'старый', 'мудрец', '.', 'более', 'форматный', 'и', 'интеллектуально', '.', 'настольгировать', '.', '😉новый', 'трек', 'и', 'клип', 'от', 'fenixa', 'из', 'zatmeni', 'я', '.', 'впервые', 'за', 'три', 'год', 'выложить', 'в', 'сеть', 'свежий', 'материал', 'и', 'в', 'дальнейший', 'быть', 'еще', '.', 'размораживать', 'прежний', 'андер', ')', 'весь', 'свой', 'и', 'достойный', '.', 'рэпчик', 'из', 'авиастрой', '.', 'с', 'ува', 'zatmenie', '[', 'fenix', ']', 'текст', ':', 'fenix', 'музыка', ':', 'ybeat', 'product', 'сведение', ',', 'мастеринг', ':', 'fenix', 'съемка', ',', 'монтаж', ':', 'il', 'pro', 'ссылка', 'на', 'группа', ':', 'https', ':', '/', '/', 'vk', '.', 'com', '/', 'zatmenie_official', 'fenix', ':', 'https', ':', '/', '/', 'vk', '.', 'com', '/', 'fenisio', 'ауе', '2013', 'весь', 'добропорядочный', 'люд', 'от', 'весь', 'душа', ',', 'старый', 'совмес', 'кто', 'помнить', 'и', 'кто', 'в', 'новинка', ',', 'пожелать', 'весь', 'благо', ',', 'с', 'искренний', 'уважение', 'и', 'братский', 'тепло', ',', 'женька', 'крест', 'и', 'артем', 'феникс', '😁😎😉новый', 'альбом', 'в', 'сеть', '!!!', 'zatmenie', '-', 'держать', 'марку', '!', 'весь', 'спасибо', 'кто', 'ждать', '!', 'весь', 'спасибо', 'за', 'репост', '!!!', 'zatmenie', '-', 'держать', 'марку', '!!!', 'альбом', 'в', 'сеть', '!!!!!!!!!!', 'дададаааадаа', 'он', 'слишком', 'долго', 'лежать', '!', 'кто', 'то', 'сказать', 'что', 'слегка', 'не', 'тот', '.', 'но', 'zatmenie', 'всегда', 'быть', 'не', 'тот', 'что', 'любить', 'весь', '=', '/', 'сегодня', 'день', 'рождение', 'феникс', '.', 'и', 'в', 'честь', 'он', 'старание', 'альбом', 'в', 'сеть', '.', 'вообщем', 'держать', 'марку', '=', '/', '/', 'альбом', 'задержаться', 'с', 'выход', 'на', '2', 'год', '.', 'https', ':', '/', '/', 'yadi', '.', 'sk', '/', 'd', '/', 'wkfx', '7', 'p', '5_3', 'k', '63', 'nd', 'новый', 'альбом', '2017', 'рано', 'или', 'поздно', 'альбом', 'я', 'выложить', '.', 'а', 'сейчас', 'для', 'тот', 'кто', 'ждать', 'или', 'ждать', '.', 'совместный', 'трек', 'с', 'эдгар', 'гросс', '...', 'слух', '.', 'на', 'мой', 'взгляд', 'тема', 'более', 'чем', 'актуальный', ')', ')', 'заценить', ')', ')', 'за', 'репост', 'так', 'же', 'жмем', '5', '.', 'от', 'феникс', 'весь', 'привет', '!!!', 'сегодня', 'вечеринка', '!!!', ')', 'свой', 'вход', 'свободныйн', 'смотреть', 'на', 'обстоятельство', '.', 'альбом', 'zatmenie-держим', 'марка', 'выйти', 'в', 'скорый', 'время', '.', 'трек', 'отдать', 'на', 'сведение', '.', 'обложка', 'в', 'процесс', '!.', 'весь', 'спасибо', '!', 'представлять', 'вы', 'команда', 'тасмо', '87', '.', 'лютый', 'парень', 'с', 'который', 'мы', 'всегда', 'на', 'связь', 'и', 'на', 'общение', '.', 'zatmenie', 'так', 'же', 'принять', 'участь', 'на', 'их', 'крутой', 'альбом', '.', 'предлагать', 'заценить', 'трэкан', ')', 'p', '.', 's', '.', 'так', 'получиться', 'что', 'мы', 'уехать', 'отдыхать', 'кто', 'куда', '=', '/', 'альбом', 'готовый', 'но', 'требовать', 'мастеринг', '.', 'думать', 'в', 'близкий', 'время', 'по', 'прибытие', 'обязательно', 'выложить', '!', 'весь', 'спасибо', 'за', 'внимание', '!!!', 'отрывок', 'из', 'новый', 'альбом', 'zatmenie', '-', 'держать', 'марка', '2015', '.', 'до', 'выход', 'остаться', 'около', 'месяц', '.', 'ценить', ',', 'лайкай', ',', 'репост', ')', 'весь', 'ценитель', 'андеграунд', 'рэп', ',', 'в', 'предверие', 'новый', 'альбом', 'записать', 'тизер', ',', 'броский', 'но', 'с', 'чувство', ',', 'скромно', 'но', 'с', 'вкус', ')', 'весь', 'тот', 'кто', 'мы', 'помнить', ',', 'zatmenie', ',', 'fenix', '&', 'ecstaz', ',', 'авиастрой', ')', 'уже', '2-й', 'альбом', ',', 'новый', 'уровень', ',', 'остаться', 'влегкий', ')', 'ценить', '.', 'мой', 'сольный', 'трек', 'под', 'название', '\"', 'кочевник', '\"', ',', 'текст', 'песня', 'написать', 'в', '2013', 'г', '.', ',', 'записать', 'в', '2014', 'г', '.', ',', 'и', 'доработать', 'в', 'этот', 'год', ',', 'так', 'что', 'уже', 'залежаться', '.', 'под', 'легкий', 'настроение', '.', 'тот', 'часть', 'мой', 'иноземный', 'рэп', ')', 'текст', ',', 'музыка', ',', 'сведение', ':', 'fenix', 'дизайн', 'обложка', ':', 'сергей', 'грешный', 'отдельный', 'благодарность', 'драгнир', 'за', 'содействие', '!', 'лютый', 'совмес', '2013', 'год', '.', 'феникс', ',', 'крюк', ',', 'социум', 'щит', '.', 'понастальгировать', 'пока', 'сводиться', 'новый', 'трекан', ')', 'hip-hop', 'all', 'stars', 'kzn', '15', '(', '27.02.2015', ')', 'литл', 'бар', '24.01.15', 'ценить', 'новый', 'трекан', '.', 'кто', 'знать', 'тот', 'понять', '.', 'приятный', 'прослушивание', '.', 'zatmenie', '[', 'fenix', ']', 'ft', '.', 'stereo', 'tip', '–', 'кристинаценимый', 'новый', 'трекан', '.', 'кто', 'знать', 'тот', 'понять', '.', 'приятный', 'прослушивание', '.', 'когда-то', 'давно', 'старик', 'открыть', 'свой', 'внук', 'один', 'жизненный', 'истина', '.', 'в', 'каждый', 'человек', 'идти', 'борьба', ',', 'очень', 'похожий', 'на', 'борьба', 'два', 'волк', '.', 'один', 'волк', 'представлять', 'зло', '–', 'зависть', ',', 'ревность', ',', 'эгоизм', ',', 'амбиция', ',', 'ложь', '…', 'другой', 'волк', 'представлять', 'добро', '–', 'мир', ',', 'любовь', ',', 'надежда', ',', 'доброта', ',', 'верность', '…', 'малыш', ',', 'тронуть', 'до', 'глубина', 'душа', 'слово', 'дед', ',', 'на', 'несколько', 'мгновение', 'задуматься', ',', 'а', 'потом', 'спросить', ':', '–', 'а', 'какой', 'волк', 'в', 'конец', 'побеждать', '?', 'старик', 'едва', 'заметно', 'улыбнуться', 'и', 'ответить', ':', '–', 'всегда', 'побеждать', 'тот', 'волк', ',', 'который', 'ты', 'кормить', '.', '★', 'каспийский', 'груз', '|', '6.12.14', '|', 'казань', '|', 't', '.', 'e', '.', 'a', '.', 't', '.', 'r', '.', 'o', '.', '★видеосъемка', 'с', 'разогрев', 'каспийский', '2013', 'такой', 'вот', 'зарисовочка', ',', 'в', 'однех', 'пока', ',', 'погрустить', 'малость', '=)', 'ценить', 'новый', 'клип', '-', 'zatmenie', '[', 'fenix', ']', ',', 'stereo', 'tip', ',', 'plasttblpb', '-', 'дно', '.', 'весь', 'большой', 'спасибо', 'и', 'приятный', 'просмотр', '!', 'zatmenie', '[', 'fenix', ']', ',', 'stereo', 'tip', ',', 'plasttblpb', '-', 'днопонастальгировать', 'с', 'кореш', ')', 'на', 'каждый', 'новый', 'год', '!', ')', 'весь', 'с', 'наступать', 'нг', '!', 'нгаа', '!', ')', ')', ')', ')', 'скоро', 'клипнужный', 'два', 'девушка', 'для', 'участие', 'в', 'клип', 'на', 'трек', '\"', 'любовь', 'и', 'наркотик', '\"', 'критерий', ':', 'высокий', ',', 'стройный', ',', 'от', '20', 'до', '30', 'год', ',', 'актерский', 'способность', 'не', 'важный', ',', 'желать', 'писать', 'в', 'личка', ')', 'весь', 'любитель', 'растафарий', '.', 'новый', 'экспериментик', '.', 'летний', 'релакс', 'такой', ',', 'легкий', 'как', 'пыль', ',', 'но', 'жгучий', 'как', 'трава', ')', 'продлить', 'лето', 'немного', ')', 'расслабиться', 'и', 'помедитировать', ')', 'весь', 'веселый', 'настроение', '!', 'совместно', 'с', 'земляк', '...', 'из', 'новый', 'альбом', '\"', 'последствие', 'м', '\"', ',', 'многий', 'улыбнуло', ',', 'очень', 'романтично', '=)', 'ценить', 'новый', 'альбом', 'от', 'zatmenie', '[', 'fenix', ']', '-', '\"', 'последствие', 'м', '\"', ',', 'при', 'участие', ':', 'ecstaz', ',', 'stereo', 'tip', ',', 'социум', 'щит', ',', 'крюк', ',', 'dragnir', ',', 'mirage', ',', 'крест', ',', 'taras', 'музыка', ':', 'fenix', '(', 'skolopendra', 'beats', ')', ',', 'kix', '(', 'domestic', 'sound', ')', ',', 'темный', '(', 'salvia', 'divinorum', ')', 'сведение', ':', 'fenix', 'мастеринг', ':', 'dragnir', 'весь', 'огромный', 'спасибо', 'и', 'приятный', 'прослушивание', '!', 'ссылка', 'на', 'скачивание', 'альбом', 'под', 'видеоклипомтрек', 'с', '1', 'по', '9', 'трек', 'с', '10', 'по', '18', 'ценить', 'новый', 'альбом', 'zatmenie', '[', 'fenix', ']', '-', '\"', 'последствие', 'м', '\"', '.', 'весь', 'большой', 'спасибо', 'и', 'приятный', 'прослушивание', '!', 'мы', 'почти', 'косарь', ')', 'ценить', 'отрывок', 'из', 'новый', 'альбом', ',', 'дата', 'выход', '-', 'июль', '2013', '.', 'учавствовать', 'на', 'андерграунд', 'вечеринка', '20', 'апрель', 'в', '\"', 'желтый', 'кофта', '\"', 'http', ':', '/', '/', 'vk', '.', 'com', '/', 'k_memories', 'два', 'трек', ',', 'как', 'два', 'симптом', 'один', 'аллергия', '.', 'поэтому', 'объединить', '.', 'весь', 'любитель', 'исказить', 'реальность', '.', 'возможный', 'побочный', 'эффект', '.', 'рекомендовать', 'в', 'наушник', '.', 'приятный', 'вынос', 'мозг', ')', 'прошлогодний', 'видос', ',', 'он', 'просто', 'нет', 'на', 'стена', 'почему', 'тот', ')', 'слушать', 'новый', 'трек', ':', 'zatmenie', '-', 'колотунповесть', 'прошлый', 'зима', '...', 'предлагать', 'ваш', 'внимание', 'ремикс', 'на', 'недавний', 'трек', '\"', 'весь', 'местный', '\"', '.', 'ценимнаш', 'минусовкиучаствуем', 'в', 'under', 'battle', '-', 'пройти', 'в', '2-ой', 'турновый', 'трек', 'с', 'совместный', 'альбом', 'с', 'группа', 'буриме', ',', 'слушать', 'на', 'полный', 'громкость', '!', ')', 'объединение', '\"', 'пападос', '.', 'com', '\"', 'представлять', 'трек', '\"', 'парень', 'с', 'окраина', '\"', 'с', 'совместный', 'альбом', 'буриме', 'и', 'zatmenie', '.', 'приятный', 'прослушивание', '.', 'залили', 'новый', 'трэк', '!!!', 'zatmenie', 'feat', 'аминадо', '-', 'посыл', 'ждать', 'коментарий', '!!!', 'слушать', 'новый', 'трэк', 'на', 'батл', '!!!', 'zatmenie', 'feat', 'аминадо', '-', 'ждите', '...', 'zatmenie', '-', 'приглашение', '.', '23', 'апрель', '.', 'кафе', '\"', 'винил', '\"', '.', '2', 'новый', 'трек', 'zatmenie', '-', 'happy', 'new', 'year', '!']\n"
     ]
    }
   ],
   "source": [
    "print([i.lemma for i in doc.tokens])"
   ]
  },
  {
   "cell_type": "code",
   "execution_count": 39,
   "metadata": {},
   "outputs": [],
   "source": [
    "doc.tag_ner(ner_tagger)"
   ]
  },
  {
   "cell_type": "code",
   "execution_count": 40,
   "metadata": {},
   "outputs": [],
   "source": [
    "locations = set()\n",
    "persons = set()\n",
    "organizations = set()\n",
    "\n",
    "with open(\"zatmenie_official_posts.tsv\", 'r', encoding=\"utf-8\") as f:\n",
    "    for line in f:\n",
    "        text = line.strip()\n",
    "        \n",
    "        doc = Doc(text)\n",
    "        doc.segment(segmenter)\n",
    "        doc.tag_morph(morph_tagger)\n",
    "        doc.tag_ner(ner_tagger)\n",
    "        \n",
    "        for span in doc.spans:\n",
    "            span.normalize(morph_vocab)\n",
    "        \n",
    "            if span.type == 'LOC':\n",
    "                locations.add(span.normal)\n",
    "            \n",
    "            elif span.type == 'PER':\n",
    "                persons.add(span.normal)\n",
    "            \n",
    "            elif span.type == 'ORG':\n",
    "                organizations.add(span.normal)"
   ]
  },
  {
   "cell_type": "code",
   "execution_count": 41,
   "metadata": {},
   "outputs": [
    {
     "name": "stdout",
     "output_type": "stream",
     "text": [
      "{'КАЗАНЬ', 'Женек Крест', 'Социум щит'}\n"
     ]
    }
   ],
   "source": [
    "print(locations)"
   ]
  },
  {
   "cell_type": "code",
   "execution_count": null,
   "metadata": {},
   "outputs": [],
   "source": []
  }
 ],
 "metadata": {
  "kernelspec": {
   "display_name": "Python 3",
   "language": "python",
   "name": "python3"
  },
  "language_info": {
   "codemirror_mode": {
    "name": "ipython",
    "version": 3
   },
   "file_extension": ".py",
   "mimetype": "text/x-python",
   "name": "python",
   "nbconvert_exporter": "python",
   "pygments_lexer": "ipython3",
   "version": "3.8.3"
  }
 },
 "nbformat": 4,
 "nbformat_minor": 4
}
